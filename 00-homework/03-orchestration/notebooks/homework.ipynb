{
 "cells": [
  {
   "cell_type": "markdown",
   "metadata": {},
   "source": [
    "# Q1. Converting the script to a Prefect flow"
   ]
  },
  {
   "cell_type": "code",
   "execution_count": 2,
   "metadata": {},
   "outputs": [
    {
     "name": "stdout",
     "output_type": "stream",
     "text": [
      "c:\\Users\\cami1\\Escritorio\\Github\\R\\mlops-zoomcamp\\00-homework\\03-orchestration\\src\n"
     ]
    }
   ],
   "source": [
    "cd ..\\src"
   ]
  },
  {
   "cell_type": "code",
   "execution_count": null,
   "metadata": {},
   "outputs": [],
   "source": [
    "! pip install prefect==2.0b5"
   ]
  },
  {
   "cell_type": "markdown",
   "metadata": {},
   "source": [
    "The only function that needs to call the `.result()` was `train_model`"
   ]
  },
  {
   "cell_type": "code",
   "execution_count": 12,
   "metadata": {},
   "outputs": [
    {
     "name": "stderr",
     "output_type": "stream",
     "text": [
      "21:17:20.323 | INFO    | prefect.engine - Created flow run 'athletic-waxbill' for flow 'main'\n",
      "21:17:20.323 | INFO    | Flow run 'athletic-waxbill' - Using task runner 'SequentialTaskRunner'\n",
      "21:17:20.355 | WARNING | Flow run 'athletic-waxbill' - No default storage is configured on the server. Results from this flow run will be stored in a temporary directory in its runtime environment.\n",
      "21:17:20.469 | INFO    | Flow run 'athletic-waxbill' - Created task run 'read_data-4c7f9de4-0' for task 'read_data'\n",
      "21:17:27.533 | INFO    | Task run 'read_data-4c7f9de4-0' - Finished in state Completed()\n",
      "21:17:27.651 | INFO    | Flow run 'athletic-waxbill' - Created task run 'prepare_features-4ee39d9f-0' for task 'prepare_features'\n",
      "21:17:27.901 | INFO    | Task run 'prepare_features-4ee39d9f-0' - The mean duration of training is 16.2472533682457\n",
      "21:17:37.787 | INFO    | Task run 'prepare_features-4ee39d9f-0' - Finished in state Completed()\n",
      "21:17:37.914 | INFO    | Flow run 'athletic-waxbill' - Created task run 'read_data-4c7f9de4-1' for task 'read_data'\n",
      "21:17:44.380 | INFO    | Task run 'read_data-4c7f9de4-1' - Finished in state Completed()\n",
      "21:17:44.492 | INFO    | Flow run 'athletic-waxbill' - Created task run 'prepare_features-4ee39d9f-1' for task 'prepare_features'\n",
      "21:17:44.743 | INFO    | Task run 'prepare_features-4ee39d9f-1' - The mean duration of validation is 16.859265811074096\n",
      "21:17:53.541 | INFO    | Task run 'prepare_features-4ee39d9f-1' - Finished in state Completed()\n",
      "21:17:53.668 | INFO    | Flow run 'athletic-waxbill' - Created task run 'train_model-7c866860-0' for task 'train_model'\n",
      "21:18:02.723 | INFO    | Task run 'train_model-7c866860-0' - The shape of X_train is (1109826, 525)\n",
      "21:18:02.723 | INFO    | Task run 'train_model-7c866860-0' - The DictVectorizer has 525 features\n",
      "21:18:12.514 | INFO    | Task run 'train_model-7c866860-0' - The MSE of training is: 10.528519403716007\n",
      "21:18:12.763 | INFO    | Task run 'train_model-7c866860-0' - Finished in state Completed()\n",
      "21:18:12.827 | INFO    | Flow run 'athletic-waxbill' - Created task run 'run_model-6559300c-0' for task 'run_model'\n",
      "21:18:21.305 | INFO    | Task run 'run_model-6559300c-0' - The MSE of validation is: 11.014287719752\n",
      "21:18:21.502 | INFO    | Task run 'run_model-6559300c-0' - Finished in state Completed()\n",
      "21:18:29.931 | INFO    | Flow run 'athletic-waxbill' - Finished in state Completed('All states completed.')\n"
     ]
    }
   ],
   "source": [
    "! python homework.py"
   ]
  },
  {
   "cell_type": "markdown",
   "metadata": {},
   "source": [
    "# Q2. Parameterizing the flow"
   ]
  },
  {
   "cell_type": "markdown",
   "metadata": {},
   "source": [
    "Running for `\"2021-03-15\"`"
   ]
  },
  {
   "cell_type": "code",
   "execution_count": 6,
   "metadata": {},
   "outputs": [
    {
     "name": "stderr",
     "output_type": "stream",
     "text": [
      "22:18:04.359 | INFO    | prefect.engine - Created flow run 'awesome-trogon' for flow 'main'\n",
      "22:18:04.359 | INFO    | Flow run 'awesome-trogon' - Using task runner 'SequentialTaskRunner'\n",
      "22:18:04.390 | WARNING | Flow run 'awesome-trogon' - No default storage is configured on the server. Results from this flow run will be stored in a temporary directory in its runtime environment.\n",
      "22:18:04.531 | INFO    | Flow run 'awesome-trogon' - Created task run 'get_paths-6e696e34-0' for task 'get_paths'\n",
      "22:18:04.593 | INFO    | Task run 'get_paths-6e696e34-0' - The path of training data is ./data/fhv_tripdata_2021-02.parquet\n",
      "22:18:04.593 | INFO    | Task run 'get_paths-6e696e34-0' - The path of validation data is ./data/fhv_tripdata_2021-01.parquet\n",
      "22:18:04.655 | INFO    | Task run 'get_paths-6e696e34-0' - Finished in state Completed()\n",
      "22:18:04.718 | INFO    | Flow run 'awesome-trogon' - Created task run 'read_data-4c7f9de4-0' for task 'read_data'\n",
      "22:18:11.683 | INFO    | Task run 'read_data-4c7f9de4-0' - Finished in state Completed()\n",
      "22:18:14.473 | INFO    | Flow run 'awesome-trogon' - Created task run 'prepare_features-4ee39d9f-0' for task 'prepare_features'\n",
      "22:18:14.722 | INFO    | Task run 'prepare_features-4ee39d9f-0' - The mean duration of training is 16.859265811074096\n",
      "22:18:23.842 | INFO    | Task run 'prepare_features-4ee39d9f-0' - Finished in state Completed()\n",
      "22:18:23.935 | INFO    | Flow run 'awesome-trogon' - Created task run 'read_data-4c7f9de4-1' for task 'read_data'\n",
      "22:18:45.469 | INFO    | Task run 'read_data-4c7f9de4-1' - Finished in state Completed()\n",
      "22:18:45.551 | INFO    | Flow run 'awesome-trogon' - Created task run 'prepare_features-4ee39d9f-1' for task 'prepare_features'\n",
      "22:18:45.802 | INFO    | Task run 'prepare_features-4ee39d9f-1' - The mean duration of validation is 16.2472533682457\n",
      "22:18:55.970 | INFO    | Task run 'prepare_features-4ee39d9f-1' - Finished in state Completed()\n",
      "22:18:56.072 | INFO    | Flow run 'awesome-trogon' - Created task run 'train_model-7c866860-0' for task 'train_model'\n",
      "22:19:05.512 | INFO    | Task run 'train_model-7c866860-0' - The shape of X_train is (990113, 526)\n",
      "22:19:05.512 | INFO    | Task run 'train_model-7c866860-0' - The DictVectorizer has 526 features\n",
      "22:19:13.837 | INFO    | Task run 'train_model-7c866860-0' - The MSE of training is: 10.958228953779791\n",
      "22:19:14.021 | INFO    | Task run 'train_model-7c866860-0' - Finished in state Completed()\n",
      "22:19:14.079 | INFO    | Flow run 'awesome-trogon' - Created task run 'run_model-6559300c-0' for task 'run_model'\n",
      "22:19:24.286 | INFO    | Task run 'run_model-6559300c-0' - The MSE of validation is: 10.60006368529393\n",
      "22:19:24.466 | INFO    | Task run 'run_model-6559300c-0' - Finished in state Completed()\n",
      "22:19:33.207 | INFO    | Flow run 'awesome-trogon' - Finished in state Completed('All states completed.')\n"
     ]
    }
   ],
   "source": [
    "! python homework.py"
   ]
  },
  {
   "cell_type": "markdown",
   "metadata": {},
   "source": [
    "Running for `\"2021-08-15\"`"
   ]
  },
  {
   "cell_type": "code",
   "execution_count": 10,
   "metadata": {},
   "outputs": [
    {
     "name": "stderr",
     "output_type": "stream",
     "text": [
      "22:26:20.985 | INFO    | prefect.engine - Created flow run 'romantic-fulmar' for flow 'main'\n",
      "22:26:20.985 | INFO    | Flow run 'romantic-fulmar' - Using task runner 'SequentialTaskRunner'\n",
      "22:26:21.014 | WARNING | Flow run 'romantic-fulmar' - No default storage is configured on the server. Results from this flow run will be stored in a temporary directory in its runtime environment.\n",
      "22:26:21.119 | INFO    | Flow run 'romantic-fulmar' - Created task run 'get_paths-6e696e34-0' for task 'get_paths'\n",
      "22:26:21.176 | INFO    | Task run 'get_paths-6e696e34-0' - The date is 2021-08-15 00:00:00\n",
      "22:26:21.176 | INFO    | Task run 'get_paths-6e696e34-0' - The path of training data is ./data/fhv_tripdata_2021-06.parquet\n",
      "22:26:21.177 | INFO    | Task run 'get_paths-6e696e34-0' - The path of validation data is ./data/fhv_tripdata_2021-07.parquet\n",
      "22:26:21.224 | INFO    | Task run 'get_paths-6e696e34-0' - Finished in state Completed()\n",
      "22:26:21.272 | INFO    | Flow run 'romantic-fulmar' - Created task run 'read_data-4c7f9de4-0' for task 'read_data'\n",
      "22:26:29.697 | INFO    | Task run 'read_data-4c7f9de4-0' - Finished in state Completed()\n",
      "22:26:29.857 | INFO    | Flow run 'romantic-fulmar' - Created task run 'prepare_features-4ee39d9f-0' for task 'prepare_features'\n",
      "22:26:30.144 | INFO    | Task run 'prepare_features-4ee39d9f-0' - The mean duration of training is 18.230538791569113\n",
      "22:26:42.596 | INFO    | Task run 'prepare_features-4ee39d9f-0' - Finished in state Completed()\n",
      "22:26:42.723 | INFO    | Flow run 'romantic-fulmar' - Created task run 'read_data-4c7f9de4-1' for task 'read_data'\n",
      "22:26:50.049 | INFO    | Task run 'read_data-4c7f9de4-1' - Finished in state Completed()\n",
      "22:26:50.111 | INFO    | Flow run 'romantic-fulmar' - Created task run 'prepare_features-4ee39d9f-1' for task 'prepare_features'\n",
      "22:26:50.377 | INFO    | Task run 'prepare_features-4ee39d9f-1' - The mean duration of validation is 17.91113046137945\n",
      "22:27:01.020 | INFO    | Task run 'prepare_features-4ee39d9f-1' - Finished in state Completed()\n",
      "22:27:01.094 | INFO    | Flow run 'romantic-fulmar' - Created task run 'train_model-7c866860-0' for task 'train_model'\n",
      "22:27:12.309 | INFO    | Task run 'train_model-7c866860-0' - The shape of X_train is (1222031, 525)\n",
      "22:27:12.310 | INFO    | Task run 'train_model-7c866860-0' - The DictVectorizer has 525 features\n",
      "22:27:21.018 | INFO    | Task run 'train_model-7c866860-0' - The MSE of training is: 11.789353672062306\n",
      "22:27:21.253 | INFO    | Task run 'train_model-7c866860-0' - Finished in state Completed()\n",
      "22:27:21.345 | INFO    | Flow run 'romantic-fulmar' - Created task run 'run_model-6559300c-0' for task 'run_model'\n",
      "22:27:32.222 | INFO    | Task run 'run_model-6559300c-0' - The MSE of validation is: 11.637032341248355\n",
      "22:27:32.452 | INFO    | Task run 'run_model-6559300c-0' - Finished in state Completed()\n",
      "22:27:42.944 | INFO    | Flow run 'romantic-fulmar' - Finished in state Completed('All states completed.')\n"
     ]
    }
   ],
   "source": [
    "! python homework.py"
   ]
  },
  {
   "cell_type": "markdown",
   "metadata": {},
   "source": [
    "The validation MSE according to the logs in the previous cell is: `11.637032341248355`"
   ]
  },
  {
   "cell_type": "markdown",
   "metadata": {},
   "source": [
    "# Q3. Saving the model and artifacts"
   ]
  },
  {
   "cell_type": "code",
   "execution_count": 12,
   "metadata": {},
   "outputs": [
    {
     "name": "stderr",
     "output_type": "stream",
     "text": [
      "22:44:30.258 | INFO    | prefect.engine - Created flow run 'myrtle-seriema' for flow 'main'\n",
      "22:44:30.258 | INFO    | Flow run 'myrtle-seriema' - Using task runner 'SequentialTaskRunner'\n",
      "22:44:30.274 | WARNING | Flow run 'myrtle-seriema' - No default storage is configured on the server. Results from this flow run will be stored in a temporary directory in its runtime environment.\n",
      "22:44:30.333 | INFO    | Flow run 'myrtle-seriema' - Created task run 'get_paths-6e696e34-0' for task 'get_paths'\n",
      "22:44:30.366 | INFO    | Task run 'get_paths-6e696e34-0' - The date is 2021-08-15 00:00:00\n",
      "22:44:30.366 | INFO    | Task run 'get_paths-6e696e34-0' - The path of training data is ./data/fhv_tripdata_2021-06.parquet\n",
      "22:44:30.366 | INFO    | Task run 'get_paths-6e696e34-0' - The path of validation data is ./data/fhv_tripdata_2021-07.parquet\n",
      "22:44:30.400 | INFO    | Task run 'get_paths-6e696e34-0' - Finished in state Completed()\n",
      "22:44:30.431 | INFO    | Flow run 'myrtle-seriema' - Created task run 'read_data-4c7f9de4-0' for task 'read_data'\n",
      "22:44:35.376 | INFO    | Task run 'read_data-4c7f9de4-0' - Finished in state Completed()\n",
      "22:44:35.439 | INFO    | Flow run 'myrtle-seriema' - Created task run 'prepare_features-4ee39d9f-0' for task 'prepare_features'\n",
      "22:44:35.692 | INFO    | Task run 'prepare_features-4ee39d9f-0' - The mean duration of training is 18.230538791569113\n",
      "22:44:43.743 | INFO    | Task run 'prepare_features-4ee39d9f-0' - Finished in state Completed()\n",
      "22:44:43.801 | INFO    | Flow run 'myrtle-seriema' - Created task run 'read_data-4c7f9de4-1' for task 'read_data'\n",
      "22:44:48.825 | INFO    | Task run 'read_data-4c7f9de4-1' - Finished in state Completed()\n",
      "22:44:48.872 | INFO    | Flow run 'myrtle-seriema' - Created task run 'prepare_features-4ee39d9f-1' for task 'prepare_features'\n",
      "22:44:49.028 | INFO    | Task run 'prepare_features-4ee39d9f-1' - The mean duration of validation is 17.91113046137945\n",
      "22:44:55.969 | INFO    | Task run 'prepare_features-4ee39d9f-1' - Finished in state Completed()\n",
      "22:44:56.019 | INFO    | Flow run 'myrtle-seriema' - Created task run 'train_model-7c866860-0' for task 'train_model'\n",
      "22:45:03.396 | INFO    | Task run 'train_model-7c866860-0' - The shape of X_train is (1222031, 525)\n",
      "22:45:03.397 | INFO    | Task run 'train_model-7c866860-0' - The DictVectorizer has 525 features\n",
      "22:45:09.180 | INFO    | Task run 'train_model-7c866860-0' - The MSE of training is: 11.789353672062306\n",
      "22:45:09.415 | INFO    | Task run 'train_model-7c866860-0' - Finished in state Completed()\n",
      "22:45:09.447 | INFO    | Flow run 'myrtle-seriema' - Created task run 'run_model-6559300c-0' for task 'run_model'\n",
      "22:45:16.059 | INFO    | Task run 'run_model-6559300c-0' - The MSE of validation is: 11.637032341248355\n",
      "22:45:16.214 | INFO    | Task run 'run_model-6559300c-0' - Finished in state Completed()\n",
      "22:45:24.167 | INFO    | Flow run 'myrtle-seriema' - Finished in state Completed('All states completed.')\n"
     ]
    }
   ],
   "source": [
    "! python homework.py"
   ]
  },
  {
   "cell_type": "code",
   "execution_count": 14,
   "metadata": {},
   "outputs": [
    {
     "name": "stdout",
     "output_type": "stream",
     "text": [
      "The file ./model-2021-08-15.pkl has a size in Bytes of: 13191\n"
     ]
    }
   ],
   "source": [
    "import os\n",
    "file_name = \"./model-2021-08-15.pkl\"\n",
    "file_stats = os.stat(file_name)\n",
    "print(f'The file {file_name} has a size in Bytes of: {file_stats.st_size}')"
   ]
  },
  {
   "cell_type": "markdown",
   "metadata": {},
   "source": [
    "The DictVectorizer model has a size of `around 13,000 bytes`"
   ]
  },
  {
   "cell_type": "markdown",
   "metadata": {},
   "source": [
    "# Q4. Creating a deployment with a CronSchedule"
   ]
  },
  {
   "cell_type": "markdown",
   "metadata": {},
   "source": [
    "With the tool https://crontab.guru/#0_9_15_*_* , I can realize that this expression `0 9 15 * *` runs a flow at 9 AM every 15th of the month."
   ]
  },
  {
   "cell_type": "code",
   "execution_count": 15,
   "metadata": {},
   "outputs": [
    {
     "name": "stdout",
     "output_type": "stream",
     "text": [
      "Loading deployment specifications from python script at '.\\\\homework.py'...\n",
      "Creating deployment 'cron-schedule-deployment' for flow 'main'...\n",
      "Deploying flow script from 'c:\\\\Users\\\\cami1\\\\Escritorio\\\\Github\\\\R\\\\mlops-zoom\n",
      "camp\\\\00-homework\\\\03-orchestration\\\\src\\\\homework.py' using Local Storage...\n",
      "Created deployment 'main/cron-schedule-deployment'.\n",
      "View your new deployment with: \n",
      "\n",
      "    prefect deployment inspect 'main/cron-schedule-deployment'\n",
      "Created 1 deployments!\n"
     ]
    },
    {
     "name": "stderr",
     "output_type": "stream",
     "text": [
      "C:\\Users\\cami1\\.conda\\envs\\mlops_zoom\\lib\\site-packages\\prefect\\deployments.py:244: UserWarning: You have not configured default storage on the server or set a storage to use for this deployment, this deployment will only be usable from the current machine.\n",
      "  warnings.warn(f\"{no_storage_message}, {local_machine_message}\")\n"
     ]
    }
   ],
   "source": [
    "! prefect deployment create .\\homework.py"
   ]
  },
  {
   "cell_type": "markdown",
   "metadata": {},
   "source": [
    "# Q5. Viewing the Deployment"
   ]
  },
  {
   "cell_type": "markdown",
   "metadata": {},
   "source": [
    "Observing the prefect UI after running `prefect orion start` and removing the filter of 1 day forward i can see **3 upcoming runs**. This number is possible to observe next to Failed runs and Late runs, just under Filters."
   ]
  },
  {
   "cell_type": "markdown",
   "metadata": {},
   "source": [
    "# Q6. Creating a work-queue"
   ]
  },
  {
   "cell_type": "markdown",
   "metadata": {},
   "source": [
    "The `prefect work-queue ls` is the  command to see all the available work-queues"
   ]
  },
  {
   "cell_type": "code",
   "execution_count": 16,
   "metadata": {},
   "outputs": [
    {
     "name": "stdout",
     "output_type": "stream",
     "text": [
      "                            Work Queues                            \n",
      "┌──────────────────────────────────────┬──────┬───────────────────┐\n",
      "│                                   ID │ Name │ Concurrency Limit │\n",
      "├──────────────────────────────────────┼──────┼───────────────────┤\n",
      "│ 46ab93e9-0c99-40f1-8f7c-9f59162ec89c │ main │ None              │\n",
      "└──────────────────────────────────────┴──────┴───────────────────┘\n",
      "                    (**) denotes a paused queue                    \n"
     ]
    }
   ],
   "source": [
    "! prefect work-queue ls"
   ]
  }
 ],
 "metadata": {
  "interpreter": {
   "hash": "a850faad080c4517828248a69faf1eb17b4ffd3e29dbb87bd99e73480efc99da"
  },
  "kernelspec": {
   "display_name": "Python 3.8.13 ('mlops_zoom')",
   "language": "python",
   "name": "python3"
  },
  "language_info": {
   "codemirror_mode": {
    "name": "ipython",
    "version": 3
   },
   "file_extension": ".py",
   "mimetype": "text/x-python",
   "name": "python",
   "nbconvert_exporter": "python",
   "pygments_lexer": "ipython3",
   "version": "3.8.13"
  },
  "orig_nbformat": 4
 },
 "nbformat": 4,
 "nbformat_minor": 2
}

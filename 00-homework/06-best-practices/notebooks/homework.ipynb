{
 "cells": [
  {
   "cell_type": "markdown",
   "metadata": {},
   "source": [
    "# Q1. Refactoring"
   ]
  },
  {
   "cell_type": "markdown",
   "metadata": {},
   "source": [
    "Before we can start coverting our code with tests, we need to \n",
    "refactor it. We'll start by getting rid of all the global variables. \n",
    "\n",
    "* Let's create a function `main` with two parameters: `year` and\n",
    "`month`.\n",
    "* Move all the code (except `read_data`) inside `main`\n",
    "* Make `categorical` a parameter for `read_data` and pass it inside `main`\n",
    "\n",
    "Now we need to create the \"main\" block from which we'll invoke\n",
    "the main function. How does the `if` statement that we use for\n",
    "this looks like? \n",
    "\n",
    "\n",
    "Hint: after refactoring, check that the code still works. Just run\n",
    "it e.g. for Feb 2021 and see if it finishes successfully. \n",
    "\n",
    "To make it easier to run it, you can write results to your local\n",
    "filesystem."
   ]
  },
  {
   "cell_type": "code",
   "execution_count": 14,
   "metadata": {},
   "outputs": [
    {
     "name": "stdout",
     "output_type": "stream",
     "text": [
      "starting\n",
      "predicted mean duration: 16.298821614015107\n",
      "Saved on taxi_type=fhv_year=2021_month=03.parquet\n",
      "ending\n"
     ]
    }
   ],
   "source": [
    "! python batch.py \"2021\" \"03\""
   ]
  },
  {
   "cell_type": "code",
   "execution_count": 15,
   "metadata": {},
   "outputs": [
    {
     "name": "stdout",
     "output_type": "stream",
     "text": [
      "batch.py\n",
      "data\n",
      "homework.ipynb\n",
      "model.bin\n",
      "taxi_type=fhv_year=2021_month=03.parquet\n",
      "tests\n"
     ]
    }
   ],
   "source": [
    "! ls"
   ]
  },
  {
   "cell_type": "markdown",
   "metadata": {},
   "source": [
    "As suggested, the `taxi_type=fhv_year=2021_month=03.parquet`is there after executing the refactored code.\n",
    "\n",
    " How does the if statement that we use for this looks like? \n",
    " \n",
    " `if __name__ == \"__main__\":`"
   ]
  },
  {
   "cell_type": "markdown",
   "metadata": {},
   "source": [
    "# Q2. Installing pytest"
   ]
  },
  {
   "cell_type": "code",
   "execution_count": 16,
   "metadata": {},
   "outputs": [
    {
     "name": "stdout",
     "output_type": "stream",
     "text": [
      "Installing pytest...\n",
      "Installing dependencies from Pipfile.lock (2e21b6)...\n",
      "To activate this project's virtualenv, run pipenv shell.\n",
      "Alternatively, run a command inside the virtualenv with pipenv run.\n"
     ]
    },
    {
     "name": "stderr",
     "output_type": "stream",
     "text": [
      "Creating a virtualenv for this project...\n",
      "\n",
      "Pipfile: C:\\Users\\cami1\\Escritorio\\Github\\mlops-zoomcamp\\00-homework\\06-best-practices\\notebooks\\Pipfile\n",
      "\n",
      "Using C:/Users/cami1/AppData/Local/Programs/Python/Python310/python.exe (3.10.0) to create virtualenv...\n",
      "\n",
      "\n",
      "[    ] Creating virtual environment..\n",
      "[=   ] Creating virtual environment..\n",
      "[==  ] Creating virtual environment..\n",
      "[=== ] Creating virtual environment..\n",
      "[ ===] Creating virtual environment..\n",
      "[  ==] Creating virtual environment..\n",
      "[   =] Creating virtual environment..\n",
      "[    ] Creating virtual environment..\n",
      "[   =] Creating virtual environment..\n",
      "[  ==] Creating virtual environment..\n",
      "[ ===] Creating virtual environment..\n",
      "[====] Creating virtual environment..\n",
      "[=== ] Creating virtual environment..\n",
      "[==  ] Creating virtual environment..\n",
      "[=   ] Creating virtual environment..\n",
      "[    ] Creating virtual environment..\n",
      "[=   ] Creating virtual environment..\n",
      "[==  ] Creating virtual environment..\n",
      "[=== ] Creating virtual environment..\n",
      "[ ===] Creating virtual environment..\n",
      "[  ==] Creating virtual environment..\n",
      "[   =] Creating virtual environment..\n",
      "[    ] Creating virtual environment..\n",
      "[   =] Creating virtual environment..\n",
      "[  ==] Creating virtual environment..\n",
      "[ ===] Creating virtual environment..\n",
      "[====] Creating virtual environment..\n",
      "[=== ] Creating virtual environment..\n",
      "[==  ] Creating virtual environment..\n",
      "[=   ] Creating virtual environment..\n",
      "[    ] Creating virtual environment..\n",
      "[=   ] Creating virtual environment..\n",
      "[==  ] Creating virtual environment..\n",
      "[=== ] Creating virtual environment..\n",
      "[ ===] Creating virtual environment..\n",
      "[  ==] Creating virtual environment..\n",
      "[   =] Creating virtual environment..\n",
      "[    ] Creating virtual environment..\n",
      "[   =] Creating virtual environment..\n",
      "[  ==] Creating virtual environment..\n",
      "[ ===] Creating virtual environment..\n",
      "[====] Creating virtual environment..\n",
      "[=== ] Creating virtual environment..\n",
      "[==  ] Creating virtual environment..\n",
      "[=   ] Creating virtual environment..\n",
      "[    ] Creating virtual environment..\n",
      "[=   ] Creating virtual environment..\n",
      "[==  ] Creating virtual environment..\n",
      "[=== ] Creating virtual environment..\n",
      "[ ===] Creating virtual environment..\n",
      "[  ==] Creating virtual environment..\n",
      "[   =] Creating virtual environment..\n",
      "[    ] Creating virtual environment..\n",
      "[   =] Creating virtual environment..\n",
      "[  ==] Creating virtual environment..\n",
      "[ ===] Creating virtual environment..\n",
      "[====] Creating virtual environment..\n",
      "[=== ] Creating virtual environment..\n",
      "[==  ] Creating virtual environment..\n",
      "[=   ] Creating virtual environment..\n",
      "[    ] Creating virtual environment..\n",
      "[=   ] Creating virtual environment...created virtual environment CPython3.10.0.final.0-64 in 4854ms\n",
      "  creator CPython3Windows(dest=C:\\Users\\cami1\\.virtualenvs\\notebooks-PiDyF8II, clear=False, no_vcs_ignore=False, global=False)\n",
      "  seeder FromAppData(download=False, pip=bundle, setuptools=bundle, wheel=bundle, via=copy, app_data_dir=C:\\Users\\cami1\\AppData\\Local\\pypa\\virtualenv)\n",
      "    added seed packages: pip==22.1.2, setuptools==62.5.0, wheel==0.37.1\n",
      "  activators BashActivator,BatchActivator,FishActivator,NushellActivator,PowerShellActivator,PythonActivator\n",
      "\n",
      "\bSuccessfully created virtual environment! \n",
      "Virtualenv location: C:\\Users\\cami1\\.virtualenvs\\notebooks-PiDyF8II\n",
      "Creating a Pipfile for this project...\n",
      "\n",
      "[    ] Installing..\n",
      "[=   ] Installing pytest..\n",
      "[==  ] Installing pytest..\n",
      "[=== ] Installing pytest..\n",
      "[ ===] Installing pytest..\n",
      "[  ==] Installing pytest..\n",
      "[   =] Installing pytest..\n",
      "[    ] Installing pytest..\n",
      "[   =] Installing pytest..\n",
      "[  ==] Installing pytest..\n",
      "[ ===] Installing pytest..\n",
      "[====] Installing pytest..\n",
      "[=== ] Installing pytest..\n",
      "[==  ] Installing pytest..\n",
      "[=   ] Installing pytest..\n",
      "[    ] Installing pytest..\n",
      "[=   ] Installing pytest..\n",
      "[==  ] Installing pytest..\n",
      "[=== ] Installing pytest..\n",
      "[ ===] Installing pytest..\n",
      "[  ==] Installing pytest..\n",
      "[   =] Installing pytest..\n",
      "[    ] Installing pytest..\n",
      "[   =] Installing pytest..\n",
      "[  ==] Installing pytest..\n",
      "[ ===] Installing pytest..\n",
      "[====] Installing pytest..\n",
      "[=== ] Installing pytest..\n",
      "[==  ] Installing pytest..\n",
      "[=   ] Installing pytest..\n",
      "[    ] Installing pytest..\n",
      "[=   ] Installing pytest..\n",
      "[==  ] Installing pytest..\n",
      "[=== ] Installing pytest..\n",
      "[ ===] Installing pytest..\n",
      "[  ==] Installing pytest..\n",
      "[   =] Installing pytest..\n",
      "[    ] Installing pytest..\n",
      "[   =] Installing pytest..\n",
      "[  ==] Installing pytest..\n",
      "[ ===] Installing pytest..\n",
      "[====] Installing pytest..\n",
      "[=== ] Installing pytest..\n",
      "[==  ] Installing pytest..\n",
      "[=   ] Installing pytest..\n",
      "[    ] Installing pytest..\n",
      "[=   ] Installing pytest..\n",
      "[==  ] Installing pytest..\n",
      "[=== ] Installing pytest..\n",
      "[ ===] Installing pytest..\n",
      "[  ==] Installing pytest..\n",
      "[   =] Installing pytest..\n",
      "[    ] Installing pytest..\n",
      "[   =] Installing pytest..\n",
      "[  ==] Installing pytest..\n",
      "[ ===] Installing pytest..\n",
      "[====] Installing pytest..\n",
      "[=== ] Installing pytest..\n",
      "[==  ] Installing pytest..\n",
      "[=   ] Installing pytest..\n",
      "[    ] Installing pytest..\n",
      "[=   ] Installing pytest..\n",
      "[==  ] Installing pytest..\n",
      "[=== ] Installing pytest..\n",
      "[ ===] Installing pytest..\n",
      "[  ==] Installing pytest..\n",
      "[   =] Installing pytest..\n",
      "[    ] Installing pytest..\n",
      "[   =] Installing pytest..\n",
      "[  ==] Installing pytest..\n",
      "[ ===] Installing pytest..\n",
      "[====] Installing pytest..\n",
      "[=== ] Installing pytest..\n",
      "[==  ] Installing pytest..\n",
      "[=   ] Installing pytest..\n",
      "[    ] Installing pytest..\n",
      "[=   ] Installing pytest..\n",
      "[==  ] Installing pytest..\n",
      "[=== ] Installing pytest..\n",
      "[ ===] Installing pytest..\n",
      "[  ==] Installing pytest..\n",
      "[   =] Installing pytest..\n",
      "[    ] Installing pytest..\n",
      "[   =] Installing pytest..\n",
      "[  ==] Installing pytest..\n",
      "[ ===] Installing pytest..\n",
      "[====] Installing pytest..\n",
      "[=== ] Installing pytest..\n",
      "[==  ] Installing pytest..\n",
      "[=   ] Installing pytest..\n",
      "[    ] Installing pytest..\n",
      "[=   ] Installing pytest..\n",
      "[==  ] Installing pytest..\n",
      "[=== ] Installing pytest..\n",
      "[ ===] Installing pytest..\n",
      "[  ==] Installing pytest...\n",
      "Adding pytest to Pipfile's [dev-packages]...\n",
      "\bInstallation Succeeded \n",
      "Pipfile.lock not found, creating...\n",
      "Locking [dev-packages] dependencies...\n",
      "\n",
      "[    ] Locking...\n",
      "Building requirements...\n",
      "\n",
      "Resolving dependencies...\n",
      "\b\n",
      "[=   ] Locking..\n",
      "[==  ] Locking..\n",
      "[=== ] Locking..\n",
      "[ ===] Locking..\n",
      "[  ==] Locking..\n",
      "[   =] Locking..\n",
      "[    ] Locking..\n",
      "[   =] Locking..\n",
      "[  ==] Locking..\n",
      "[ ===] Locking..\n",
      "[====] Locking..\n",
      "[=== ] Locking..\n",
      "[==  ] Locking..\n",
      "[=   ] Locking..\n",
      "[    ] Locking..\n",
      "[=   ] Locking..\n",
      "[==  ] Locking..\n",
      "[=== ] Locking..\n",
      "[ ===] Locking..\n",
      "[  ==] Locking..\n",
      "[   =] Locking..\n",
      "[    ] Locking..\n",
      "[   =] Locking..\n",
      "[  ==] Locking..\n",
      "[ ===] Locking..\n",
      "[====] Locking..\n",
      "[=== ] Locking..\n",
      "[==  ] Locking..\n",
      "[=   ] Locking..\n",
      "[    ] Locking..\n",
      "[=   ] Locking..\n",
      "[==  ] Locking..\n",
      "[=== ] Locking..\n",
      "[ ===] Locking..\n",
      "[  ==] Locking..\n",
      "[   =] Locking..\n",
      "[    ] Locking..\n",
      "[   =] Locking..\n",
      "[  ==] Locking..\n",
      "[ ===] Locking..\n",
      "[====] Locking..\n",
      "[=== ] Locking..Success! \n",
      "Locking [packages] dependencies...\n",
      "Updated Pipfile.lock (2e21b6)!\n",
      "  ================================ 0/0 - 00:00:00\n",
      "\n"
     ]
    }
   ],
   "source": [
    "! pipenv install --dev pytest"
   ]
  },
  {
   "cell_type": "markdown",
   "metadata": {},
   "source": [
    "Next, create a folder tests and create two files. One will be the file with tests. We can name if test_batch.py.\n",
    "\n",
    "What should be the other file?\n",
    "\n",
    "Hint: to be able to test batch.py, we need to be able to import it. Without this other file, we won't be able to do it."
   ]
  },
  {
   "cell_type": "code",
   "execution_count": 18,
   "metadata": {},
   "outputs": [
    {
     "name": "stdout",
     "output_type": "stream",
     "text": [
      "__init__.py\n",
      "test_batch.py\n"
     ]
    }
   ],
   "source": [
    "! ls tests"
   ]
  },
  {
   "cell_type": "markdown",
   "metadata": {},
   "source": [
    "# Q3. Writing first unit test"
   ]
  },
  {
   "cell_type": "markdown",
   "metadata": {},
   "source": [
    "How many rows should be there in the expected dataframe?"
   ]
  },
  {
   "cell_type": "code",
   "execution_count": 10,
   "metadata": {},
   "outputs": [
    {
     "name": "stdout",
     "output_type": "stream",
     "text": [
      "============================= test session starts =============================\n",
      "platform win32 -- Python 3.10.0, pytest-7.1.2, pluggy-1.0.0\n",
      "rootdir: c:\\Users\\cami1\\Escritorio\\Github\\mlops-zoomcamp\\00-homework\\06-best-practices\\notebooks\n",
      "collected 1 item\n",
      "\n",
      "tests\\test_batch.py .                                                    [100%]\n",
      "\n",
      "============================== 1 passed in 1.05s ==============================\n"
     ]
    }
   ],
   "source": [
    "! pytest tests\\test_batch.py"
   ]
  },
  {
   "cell_type": "code",
   "execution_count": 12,
   "metadata": {},
   "outputs": [
    {
     "name": "stdout",
     "output_type": "stream",
     "text": [
      "   PUlocationID  DOlocationID     pickup_datetime    dropOff_datetime\n",
      "2           1.0           1.0 2021-01-01 01:02:00 2021-01-01 01:02:50\n",
      "0           NaN           NaN 2021-01-01 01:02:00 2021-01-01 01:10:00\n",
      "1           1.0           1.0 2021-01-01 01:02:00 2021-01-01 01:10:00\n",
      "3           1.0           1.0 2021-01-01 01:02:00 2021-01-01 02:02:01\n",
      "# rows: 4\n"
     ]
    }
   ],
   "source": [
    "! python tests\\test_batch.py"
   ]
  },
  {
   "cell_type": "markdown",
   "metadata": {},
   "source": [
    "4 rows"
   ]
  },
  {
   "cell_type": "markdown",
   "metadata": {},
   "source": [
    "# Q4.  Mocking S3 with Localstack"
   ]
  },
  {
   "cell_type": "markdown",
   "metadata": {},
   "source": [
    "With AWS CLI, this is how we create a bucket:\n",
    "\n",
    "```bash\n",
    "aws s3 mb s3://nyc-duration\n",
    "```\n",
    "\n",
    "Adjust it for localstack. How does the command look like?\n",
    "\n",
    "Check that the bucket was successfully created. With AWS, this is how we typically do it:\n",
    "\n",
    "```bash\n",
    "aws s3 ls\n",
    "```"
   ]
  },
  {
   "cell_type": "code",
   "execution_count": null,
   "metadata": {},
   "outputs": [],
   "source": [
    "# In an external terminal\n",
    "! docker-compose up"
   ]
  },
  {
   "cell_type": "code",
   "execution_count": 71,
   "metadata": {},
   "outputs": [],
   "source": [
    "! aws --endpoint-url=http://localhost:4566 s3 ls"
   ]
  },
  {
   "cell_type": "code",
   "execution_count": 72,
   "metadata": {},
   "outputs": [
    {
     "name": "stdout",
     "output_type": "stream",
     "text": [
      "make_bucket: nyc-duration\n"
     ]
    }
   ],
   "source": [
    "! aws --endpoint-url=http://localhost:4566 s3 mb s3://nyc-duration"
   ]
  },
  {
   "cell_type": "code",
   "execution_count": 73,
   "metadata": {},
   "outputs": [
    {
     "name": "stdout",
     "output_type": "stream",
     "text": [
      "2022-07-20 20:06:25 nyc-duration\n"
     ]
    }
   ],
   "source": [
    "! aws --endpoint-url=http://localhost:4566 s3 ls"
   ]
  },
  {
   "cell_type": "markdown",
   "metadata": {},
   "source": [
    "Adjust it for localstack. How does the command look like?\n",
    "```bash\n",
    "aws --endpoint-url=http://localhost:4566 s3 mb s3://nyc-duration\n",
    "```"
   ]
  },
  {
   "cell_type": "code",
   "execution_count": 13,
   "metadata": {},
   "outputs": [],
   "source": [
    "! export INPUT_FILE_PATTERN=\"s3://nyc-duration/in/{year:04d}-{month:02d}.parquet\"\n",
    "! export OUTPUT_FILE_PATTERN=\"s3://nyc-duration/out/{year:04d}-{month:02d}.parquet\""
   ]
  },
  {
   "cell_type": "code",
   "execution_count": 24,
   "metadata": {},
   "outputs": [
    {
     "name": "stdout",
     "output_type": "stream",
     "text": [
      "\u001b[1m============================= test session starts ==============================\u001b[0m\n",
      "platform linux -- Python 3.8.8, pytest-6.2.2, py-1.10.0, pluggy-0.13.1\n",
      "rootdir: /media/camilocf/329087059086CEB3/Users/cami1/Escritorio/Github/mlops-zoomcamp/00-homework/06-best-practices/notebooks\n",
      "collected 1 item                                                               \u001b[0m\n",
      "\n",
      "tests/test_batch.py \u001b[32m.\u001b[0m\u001b[32m                                                    [100%]\u001b[0m\n",
      "\n",
      "\u001b[32m============================== \u001b[32m\u001b[1m1 passed\u001b[0m\u001b[32m in 0.60s\u001b[0m\u001b[32m ===============================\u001b[0m\n"
     ]
    }
   ],
   "source": [
    "! pytest"
   ]
  },
  {
   "cell_type": "markdown",
   "metadata": {},
   "source": [
    "# Q5. Creating test data"
   ]
  },
  {
   "cell_type": "code",
   "execution_count": 126,
   "metadata": {},
   "outputs": [
    {
     "name": "stdout",
     "output_type": "stream",
     "text": [
      "s3://nyc-duration/taxi_type=fhv/year=2021/month=01/predictions.parquet\n"
     ]
    }
   ],
   "source": [
    "! python tests/integration_test.py"
   ]
  },
  {
   "cell_type": "code",
   "execution_count": 119,
   "metadata": {},
   "outputs": [
    {
     "name": "stdout",
     "output_type": "stream",
     "text": [
      "2022-07-20 20:25:10       3504 predictions.parquet\n"
     ]
    }
   ],
   "source": [
    "! aws --endpoint-url=http://localhost:4566 s3 ls s3://nyc-duration/taxi_type=fhv/year=2021/month=01/"
   ]
  },
  {
   "cell_type": "code",
   "execution_count": 127,
   "metadata": {},
   "outputs": [
    {
     "name": "stdout",
     "output_type": "stream",
     "text": [
      "2022-07-20 20:26:41       3504 predictions.parquet\n"
     ]
    }
   ],
   "source": [
    "! aws --endpoint-url=http://localhost:4566 s3 ls s3://nyc-duration/taxi_type=fhv/year=2021/month=01/"
   ]
  },
  {
   "cell_type": "markdown",
   "metadata": {},
   "source": [
    "What's the size of the file?\n",
    "\n",
    "**A/** 3504 around 3512"
   ]
  },
  {
   "cell_type": "markdown",
   "metadata": {},
   "source": [
    "# Q6. Finish the integration test"
   ]
  },
  {
   "cell_type": "code",
   "execution_count": 135,
   "metadata": {},
   "outputs": [],
   "source": [
    "! export INPUT_FILE_PATTERN=\"s3://nyc-duration/taxi_type=fhv/year=2021/month=01/predictions.parquet\"\n",
    "! export OUTPUT_FILE_PATTERN=\"s3://nyc-duration/taxi_type=fhv/year=2021/month=01/predictions_out.parquet\""
   ]
  },
  {
   "cell_type": "code",
   "execution_count": null,
   "metadata": {},
   "outputs": [],
   "source": [
    "! python batch.py 2021 1"
   ]
  },
  {
   "cell_type": "code",
   "execution_count": null,
   "metadata": {},
   "outputs": [],
   "source": [
    "import pandas as pd\n",
    "\n",
    "S3_ENDPOINT_URL = \"http://localhost:4566\"\n",
    "options = {\n",
    "    'client_kwargs': {\n",
    "        'endpoint_url': S3_ENDPOINT_URL\n",
    "    }\n",
    "}\n",
    "\n",
    "file = \"s3://nyc-duration/taxi_type=fhv/year=2021/month=01/predictions.parquet\"\n",
    "df = pd.read_parquet(file, storage_options = options)"
   ]
  },
  {
   "cell_type": "code",
   "execution_count": null,
   "metadata": {},
   "outputs": [],
   "source": [
    "df[\"predicted_duration\"].sum()"
   ]
  },
  {
   "cell_type": "markdown",
   "metadata": {},
   "source": [
    "What's the sum of predicted durations for the test dataframe?\n",
    "\n",
    "86.31436303194275"
   ]
  }
 ],
 "metadata": {
  "kernelspec": {
   "display_name": "Python 3.8.8 ('base')",
   "language": "python",
   "name": "python3"
  },
  "language_info": {
   "codemirror_mode": {
    "name": "ipython",
    "version": 3
   },
   "file_extension": ".py",
   "mimetype": "text/x-python",
   "name": "python",
   "nbconvert_exporter": "python",
   "pygments_lexer": "ipython3",
   "version": "3.8.8"
  },
  "orig_nbformat": 4,
  "vscode": {
   "interpreter": {
    "hash": "00a2c8044a15ef37f1142dd0be4599190520dc61d564cb4fd7196ce956acc9f3"
   }
  }
 },
 "nbformat": 4,
 "nbformat_minor": 2
}

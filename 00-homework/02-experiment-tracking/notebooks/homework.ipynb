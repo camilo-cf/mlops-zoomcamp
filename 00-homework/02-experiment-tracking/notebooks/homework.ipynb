{
 "cells": [
  {
   "cell_type": "markdown",
   "metadata": {},
   "source": [
    "# Q1. Install Mlflow"
   ]
  },
  {
   "cell_type": "code",
   "execution_count": null,
   "metadata": {},
   "outputs": [],
   "source": [
    "! pip install mlflow"
   ]
  },
  {
   "cell_type": "code",
   "execution_count": 6,
   "metadata": {},
   "outputs": [
    {
     "name": "stdout",
     "output_type": "stream",
     "text": [
      "mlflow, version 1.26.1\n"
     ]
    }
   ],
   "source": [
    "! mlflow --version"
   ]
  },
  {
   "cell_type": "markdown",
   "metadata": {},
   "source": [
    "# Q2 Download and preprocess the data"
   ]
  },
  {
   "cell_type": "code",
   "execution_count": 99,
   "metadata": {},
   "outputs": [],
   "source": [
    "%run ../src/preprocess_data.py --raw_data_path ../data/ --dest_path ./output"
   ]
  },
  {
   "cell_type": "code",
   "execution_count": 100,
   "metadata": {},
   "outputs": [
    {
     "name": "stdout",
     "output_type": "stream",
     "text": [
      "Files:  ['dv.pkl', 'test.pkl', 'train.pkl', 'valid.pkl']\n",
      "Number of files:  4\n"
     ]
    }
   ],
   "source": [
    "import os\n",
    "print(\"Files: \", os.listdir(\"./output\"))\n",
    "print(\"Number of files: \", len(os.listdir(\"./output\")))"
   ]
  },
  {
   "cell_type": "markdown",
   "metadata": {},
   "source": [
    "# Q3. Train a model with autolog"
   ]
  },
  {
   "cell_type": "code",
   "execution_count": 101,
   "metadata": {},
   "outputs": [],
   "source": [
    "# Run MlFlow from console (not from notebook)\n",
    "# located in \\mlops-zoomcamp\\00-homework\\02-experiment-tracking> \n",
    "# Run: mlflow ui --backend-store-uri sqlite:///data/mlflow/mlflow.db"
   ]
  },
  {
   "cell_type": "code",
   "execution_count": 102,
   "metadata": {},
   "outputs": [],
   "source": [
    "%run ../src/train.py --data_path ./output"
   ]
  },
  {
   "cell_type": "code",
   "execution_count": 103,
   "metadata": {},
   "outputs": [],
   "source": [
    "import sqlite3\n",
    "con = sqlite3.connect('../data/mlflow/mlflow.db')\n",
    "cur = con.cursor()"
   ]
  },
  {
   "cell_type": "code",
   "execution_count": 104,
   "metadata": {},
   "outputs": [
    {
     "name": "stdout",
     "output_type": "stream",
     "text": [
      "Params:  ['max_samples', 'max_features', 'n_jobs', 'max_depth', 'verbose', 'warm_start', 'random_state', 'bootstrap', 'ccp_alpha', 'min_weight_fraction_leaf', 'criterion', 'min_samples_leaf', 'n_estimators', 'max_leaf_nodes', 'min_impurity_decrease', 'oob_score', 'min_samples_split']\n",
      "\n",
      "Number of Params: 17\n"
     ]
    }
   ],
   "source": [
    "cur.execute('SELECT * FROM params;')\n",
    "params = []\n",
    "for each in cur.fetchall():\n",
    "    params.append(each[0])\n",
    "params = list(set(params))\n",
    "print(\"Params: \", params)\n",
    "\n",
    "print(\"\\nNumber of Params:\", len(params))"
   ]
  },
  {
   "cell_type": "markdown",
   "metadata": {},
   "source": [
    "# Q4. Launch the tracking server locally"
   ]
  },
  {
   "cell_type": "code",
   "execution_count": 105,
   "metadata": {},
   "outputs": [],
   "source": [
    "# Run MlFlow from console (not from notebook)\n",
    "# located in \\mlops-zoomcamp\\00-homework\\02-experiment-tracking> \n",
    "# Run: mlflow ui --backend-store-uri sqlite:///data/mlflow/mlflow.db --artifacts-destination ./data/mlflow/artifacts "
   ]
  },
  {
   "cell_type": "markdown",
   "metadata": {},
   "source": [
    "# Q5. Tune the hyperparameters of the model"
   ]
  },
  {
   "cell_type": "code",
   "execution_count": 106,
   "metadata": {},
   "outputs": [
    {
     "name": "stdout",
     "output_type": "stream",
     "text": [
      "  0%|          | 0/50 [00:00<?, ?trial/s, best loss=?]"
     ]
    },
    {
     "name": "stderr",
     "output_type": "stream",
     "text": [
      "2022/05/28 23:56:26 WARNING mlflow.utils.autologging_utils: Encountered unexpected error during sklearn autologging: The following failures occurred while performing one or more logging operations: [MlflowException('Failed to perform one or more operations on the run with ID 62fedb0559f54b0ea40e842dc4d35410. Failed operations: [RestException(\"INVALID_PARAMETER_VALUE: Changing param values is not allowed. Params were already logged=\\'[{\\'key\\': \\'bootstrap\\', \\'old_value\\': None, \\'new_value\\': \\'True\\'}, {\\'key\\': \\'ccp_alpha\\', \\'old_value\\': None, \\'new_value\\': \\'0.0\\'}, {\\'key\\': \\'criterion\\', \\'old_value\\': None, \\'new_value\\': \\'squared_error\\'}, {\\'key\\': \\'max_features\\', \\'old_value\\': None, \\'new_value\\': \\'1.0\\'}, {\\'key\\': \\'max_leaf_nodes\\', \\'old_value\\': None, \\'new_value\\': \\'None\\'}, {\\'key\\': \\'max_samples\\', \\'old_value\\': None, \\'new_value\\': \\'None\\'}, {\\'key\\': \\'min_impurity_decrease\\', \\'old_value\\': None, \\'new_value\\': \\'0.0\\'}, {\\'key\\': \\'min_weight_fraction_leaf\\', \\'old_value\\': None, \\'new_value\\': \\'0.0\\'}, {\\'key\\': \\'n_jobs\\', \\'old_value\\': None, \\'new_value\\': \\'None\\'}, {\\'key\\': \\'oob_score\\', \\'old_value\\': None, \\'new_value\\': \\'False\\'}, {\\'key\\': \\'verbose\\', \\'old_value\\': None, \\'new_value\\': \\'0\\'}, {\\'key\\': \\'warm_start\\', \\'old_value\\': None, \\'new_value\\': \\'False\\'}]\\' for run ID=\\'62fedb0559f54b0ea40e842dc4d35410\\'.\")]')]\n",
      "\n"
     ]
    },
    {
     "name": "stdout",
     "output_type": "stream",
     "text": [
      "  2%|▏         | 1/50 [00:16<13:25, 16.44s/trial, best loss: 6.658956269343007]"
     ]
    },
    {
     "name": "stderr",
     "output_type": "stream",
     "text": [
      "2022/05/28 23:56:29 WARNING mlflow.utils.autologging_utils: Encountered unexpected error during sklearn autologging: The following failures occurred while performing one or more logging operations: [MlflowException('Failed to perform one or more operations on the run with ID 83a5f187bbe4435c86b44eb218e77739. Failed operations: [RestException(\"INVALID_PARAMETER_VALUE: Changing param values is not allowed. Params were already logged=\\'[{\\'key\\': \\'bootstrap\\', \\'old_value\\': None, \\'new_value\\': \\'True\\'}, {\\'key\\': \\'ccp_alpha\\', \\'old_value\\': None, \\'new_value\\': \\'0.0\\'}, {\\'key\\': \\'criterion\\', \\'old_value\\': None, \\'new_value\\': \\'squared_error\\'}, {\\'key\\': \\'max_features\\', \\'old_value\\': None, \\'new_value\\': \\'1.0\\'}, {\\'key\\': \\'max_leaf_nodes\\', \\'old_value\\': None, \\'new_value\\': \\'None\\'}, {\\'key\\': \\'max_samples\\', \\'old_value\\': None, \\'new_value\\': \\'None\\'}, {\\'key\\': \\'min_impurity_decrease\\', \\'old_value\\': None, \\'new_value\\': \\'0.0\\'}, {\\'key\\': \\'min_weight_fraction_leaf\\', \\'old_value\\': None, \\'new_value\\': \\'0.0\\'}, {\\'key\\': \\'n_jobs\\', \\'old_value\\': None, \\'new_value\\': \\'None\\'}, {\\'key\\': \\'oob_score\\', \\'old_value\\': None, \\'new_value\\': \\'False\\'}, {\\'key\\': \\'verbose\\', \\'old_value\\': None, \\'new_value\\': \\'0\\'}, {\\'key\\': \\'warm_start\\', \\'old_value\\': None, \\'new_value\\': \\'False\\'}]\\' for run ID=\\'83a5f187bbe4435c86b44eb218e77739\\'.\")]')]\n",
      "\n"
     ]
    },
    {
     "name": "stdout",
     "output_type": "stream",
     "text": [
      "  4%|▍         | 2/50 [00:19<06:58,  8.71s/trial, best loss: 6.658956269343007]"
     ]
    },
    {
     "name": "stderr",
     "output_type": "stream",
     "text": [
      "2022/05/28 23:56:33 WARNING mlflow.utils.autologging_utils: Encountered unexpected error during sklearn autologging: The following failures occurred while performing one or more logging operations: [MlflowException('Failed to perform one or more operations on the run with ID 333aeb0482874cad837ce0fde86af19c. Failed operations: [RestException(\"INVALID_PARAMETER_VALUE: Changing param values is not allowed. Params were already logged=\\'[{\\'key\\': \\'bootstrap\\', \\'old_value\\': None, \\'new_value\\': \\'True\\'}, {\\'key\\': \\'ccp_alpha\\', \\'old_value\\': None, \\'new_value\\': \\'0.0\\'}, {\\'key\\': \\'criterion\\', \\'old_value\\': None, \\'new_value\\': \\'squared_error\\'}, {\\'key\\': \\'max_features\\', \\'old_value\\': None, \\'new_value\\': \\'1.0\\'}, {\\'key\\': \\'max_leaf_nodes\\', \\'old_value\\': None, \\'new_value\\': \\'None\\'}, {\\'key\\': \\'max_samples\\', \\'old_value\\': None, \\'new_value\\': \\'None\\'}, {\\'key\\': \\'min_impurity_decrease\\', \\'old_value\\': None, \\'new_value\\': \\'0.0\\'}, {\\'key\\': \\'min_weight_fraction_leaf\\', \\'old_value\\': None, \\'new_value\\': \\'0.0\\'}, {\\'key\\': \\'n_jobs\\', \\'old_value\\': None, \\'new_value\\': \\'None\\'}, {\\'key\\': \\'oob_score\\', \\'old_value\\': None, \\'new_value\\': \\'False\\'}, {\\'key\\': \\'verbose\\', \\'old_value\\': None, \\'new_value\\': \\'0\\'}, {\\'key\\': \\'warm_start\\', \\'old_value\\': None, \\'new_value\\': \\'False\\'}]\\' for run ID=\\'333aeb0482874cad837ce0fde86af19c\\'.\")]')]\n",
      "\n"
     ]
    },
    {
     "name": "stdout",
     "output_type": "stream",
     "text": [
      "  6%|▌         | 3/50 [00:23<05:05,  6.50s/trial, best loss: 6.658956269343007]"
     ]
    },
    {
     "name": "stderr",
     "output_type": "stream",
     "text": [
      "2022/05/28 23:56:45 WARNING mlflow.utils.autologging_utils: Encountered unexpected error during sklearn autologging: The following failures occurred while performing one or more logging operations: [MlflowException('Failed to perform one or more operations on the run with ID 19d2e5a975744450a6d79ccf13259db3. Failed operations: [RestException(\"INVALID_PARAMETER_VALUE: Changing param values is not allowed. Params were already logged=\\'[{\\'key\\': \\'bootstrap\\', \\'old_value\\': None, \\'new_value\\': \\'True\\'}, {\\'key\\': \\'ccp_alpha\\', \\'old_value\\': None, \\'new_value\\': \\'0.0\\'}, {\\'key\\': \\'criterion\\', \\'old_value\\': None, \\'new_value\\': \\'squared_error\\'}, {\\'key\\': \\'max_features\\', \\'old_value\\': None, \\'new_value\\': \\'1.0\\'}, {\\'key\\': \\'max_leaf_nodes\\', \\'old_value\\': None, \\'new_value\\': \\'None\\'}, {\\'key\\': \\'max_samples\\', \\'old_value\\': None, \\'new_value\\': \\'None\\'}, {\\'key\\': \\'min_impurity_decrease\\', \\'old_value\\': None, \\'new_value\\': \\'0.0\\'}, {\\'key\\': \\'min_weight_fraction_leaf\\', \\'old_value\\': None, \\'new_value\\': \\'0.0\\'}, {\\'key\\': \\'n_jobs\\', \\'old_value\\': None, \\'new_value\\': \\'None\\'}, {\\'key\\': \\'oob_score\\', \\'old_value\\': None, \\'new_value\\': \\'False\\'}, {\\'key\\': \\'verbose\\', \\'old_value\\': None, \\'new_value\\': \\'0\\'}, {\\'key\\': \\'warm_start\\', \\'old_value\\': None, \\'new_value\\': \\'False\\'}]\\' for run ID=\\'19d2e5a975744450a6d79ccf13259db3\\'.\")]')]\n",
      "\n"
     ]
    },
    {
     "name": "stdout",
     "output_type": "stream",
     "text": [
      "  8%|▊         | 4/50 [00:35<06:42,  8.75s/trial, best loss: 6.651438559376775]"
     ]
    },
    {
     "name": "stderr",
     "output_type": "stream",
     "text": [
      "2022/05/28 23:56:52 WARNING mlflow.utils.autologging_utils: Encountered unexpected error during sklearn autologging: The following failures occurred while performing one or more logging operations: [MlflowException('Failed to perform one or more operations on the run with ID a14ea9d23b194ef5bcff8daee71515c5. Failed operations: [RestException(\"INVALID_PARAMETER_VALUE: Changing param values is not allowed. Params were already logged=\\'[{\\'key\\': \\'bootstrap\\', \\'old_value\\': None, \\'new_value\\': \\'True\\'}, {\\'key\\': \\'ccp_alpha\\', \\'old_value\\': None, \\'new_value\\': \\'0.0\\'}, {\\'key\\': \\'criterion\\', \\'old_value\\': None, \\'new_value\\': \\'squared_error\\'}, {\\'key\\': \\'max_features\\', \\'old_value\\': None, \\'new_value\\': \\'1.0\\'}, {\\'key\\': \\'max_leaf_nodes\\', \\'old_value\\': None, \\'new_value\\': \\'None\\'}, {\\'key\\': \\'max_samples\\', \\'old_value\\': None, \\'new_value\\': \\'None\\'}, {\\'key\\': \\'min_impurity_decrease\\', \\'old_value\\': None, \\'new_value\\': \\'0.0\\'}, {\\'key\\': \\'min_weight_fraction_leaf\\', \\'old_value\\': None, \\'new_value\\': \\'0.0\\'}, {\\'key\\': \\'n_jobs\\', \\'old_value\\': None, \\'new_value\\': \\'None\\'}, {\\'key\\': \\'oob_score\\', \\'old_value\\': None, \\'new_value\\': \\'False\\'}, {\\'key\\': \\'verbose\\', \\'old_value\\': None, \\'new_value\\': \\'0\\'}, {\\'key\\': \\'warm_start\\', \\'old_value\\': None, \\'new_value\\': \\'False\\'}]\\' for run ID=\\'a14ea9d23b194ef5bcff8daee71515c5\\'.\")]')]\n",
      "\n"
     ]
    },
    {
     "name": "stdout",
     "output_type": "stream",
     "text": [
      " 10%|█         | 5/50 [00:42<06:04,  8.11s/trial, best loss: 6.651438559376775]"
     ]
    },
    {
     "name": "stderr",
     "output_type": "stream",
     "text": [
      "2022/05/28 23:57:11 WARNING mlflow.utils.autologging_utils: Encountered unexpected error during sklearn autologging: The following failures occurred while performing one or more logging operations: [MlflowException('Failed to perform one or more operations on the run with ID 6eb1eaf87ff44202b372c2a49ce9f45d. Failed operations: [RestException(\"INVALID_PARAMETER_VALUE: Changing param values is not allowed. Params were already logged=\\'[{\\'key\\': \\'bootstrap\\', \\'old_value\\': None, \\'new_value\\': \\'True\\'}, {\\'key\\': \\'ccp_alpha\\', \\'old_value\\': None, \\'new_value\\': \\'0.0\\'}, {\\'key\\': \\'criterion\\', \\'old_value\\': None, \\'new_value\\': \\'squared_error\\'}, {\\'key\\': \\'max_features\\', \\'old_value\\': None, \\'new_value\\': \\'1.0\\'}, {\\'key\\': \\'max_leaf_nodes\\', \\'old_value\\': None, \\'new_value\\': \\'None\\'}, {\\'key\\': \\'max_samples\\', \\'old_value\\': None, \\'new_value\\': \\'None\\'}, {\\'key\\': \\'min_impurity_decrease\\', \\'old_value\\': None, \\'new_value\\': \\'0.0\\'}, {\\'key\\': \\'min_weight_fraction_leaf\\', \\'old_value\\': None, \\'new_value\\': \\'0.0\\'}, {\\'key\\': \\'n_jobs\\', \\'old_value\\': None, \\'new_value\\': \\'None\\'}, {\\'key\\': \\'oob_score\\', \\'old_value\\': None, \\'new_value\\': \\'False\\'}, {\\'key\\': \\'verbose\\', \\'old_value\\': None, \\'new_value\\': \\'0\\'}, {\\'key\\': \\'warm_start\\', \\'old_value\\': None, \\'new_value\\': \\'False\\'}]\\' for run ID=\\'6eb1eaf87ff44202b372c2a49ce9f45d\\'.\")]')]\n",
      "\n"
     ]
    },
    {
     "name": "stdout",
     "output_type": "stream",
     "text": [
      " 12%|█▏        | 6/50 [01:01<08:31, 11.62s/trial, best loss: 6.651438559376775]"
     ]
    },
    {
     "name": "stderr",
     "output_type": "stream",
     "text": [
      "2022/05/28 23:57:28 WARNING mlflow.utils.autologging_utils: Encountered unexpected error during sklearn autologging: The following failures occurred while performing one or more logging operations: [MlflowException('Failed to perform one or more operations on the run with ID ed054ecf096c4f7b80e4c66ed3bb3d01. Failed operations: [RestException(\"INVALID_PARAMETER_VALUE: Changing param values is not allowed. Params were already logged=\\'[{\\'key\\': \\'bootstrap\\', \\'old_value\\': None, \\'new_value\\': \\'True\\'}, {\\'key\\': \\'ccp_alpha\\', \\'old_value\\': None, \\'new_value\\': \\'0.0\\'}, {\\'key\\': \\'criterion\\', \\'old_value\\': None, \\'new_value\\': \\'squared_error\\'}, {\\'key\\': \\'max_features\\', \\'old_value\\': None, \\'new_value\\': \\'1.0\\'}, {\\'key\\': \\'max_leaf_nodes\\', \\'old_value\\': None, \\'new_value\\': \\'None\\'}, {\\'key\\': \\'max_samples\\', \\'old_value\\': None, \\'new_value\\': \\'None\\'}, {\\'key\\': \\'min_impurity_decrease\\', \\'old_value\\': None, \\'new_value\\': \\'0.0\\'}, {\\'key\\': \\'min_weight_fraction_leaf\\', \\'old_value\\': None, \\'new_value\\': \\'0.0\\'}, {\\'key\\': \\'n_jobs\\', \\'old_value\\': None, \\'new_value\\': \\'None\\'}, {\\'key\\': \\'oob_score\\', \\'old_value\\': None, \\'new_value\\': \\'False\\'}, {\\'key\\': \\'verbose\\', \\'old_value\\': None, \\'new_value\\': \\'0\\'}, {\\'key\\': \\'warm_start\\', \\'old_value\\': None, \\'new_value\\': \\'False\\'}]\\' for run ID=\\'ed054ecf096c4f7b80e4c66ed3bb3d01\\'.\")]')]\n",
      "\n"
     ]
    },
    {
     "name": "stdout",
     "output_type": "stream",
     "text": [
      " 14%|█▍        | 7/50 [01:18<09:41, 13.51s/trial, best loss: 6.651438559376775]"
     ]
    },
    {
     "name": "stderr",
     "output_type": "stream",
     "text": [
      "2022/05/28 23:57:32 WARNING mlflow.utils.autologging_utils: Encountered unexpected error during sklearn autologging: The following failures occurred while performing one or more logging operations: [MlflowException('Failed to perform one or more operations on the run with ID 7f02980206fc44ed82070542ee10bcf7. Failed operations: [RestException(\"INVALID_PARAMETER_VALUE: Changing param values is not allowed. Params were already logged=\\'[{\\'key\\': \\'bootstrap\\', \\'old_value\\': None, \\'new_value\\': \\'True\\'}, {\\'key\\': \\'ccp_alpha\\', \\'old_value\\': None, \\'new_value\\': \\'0.0\\'}, {\\'key\\': \\'criterion\\', \\'old_value\\': None, \\'new_value\\': \\'squared_error\\'}, {\\'key\\': \\'max_features\\', \\'old_value\\': None, \\'new_value\\': \\'1.0\\'}, {\\'key\\': \\'max_leaf_nodes\\', \\'old_value\\': None, \\'new_value\\': \\'None\\'}, {\\'key\\': \\'max_samples\\', \\'old_value\\': None, \\'new_value\\': \\'None\\'}, {\\'key\\': \\'min_impurity_decrease\\', \\'old_value\\': None, \\'new_value\\': \\'0.0\\'}, {\\'key\\': \\'min_weight_fraction_leaf\\', \\'old_value\\': None, \\'new_value\\': \\'0.0\\'}, {\\'key\\': \\'n_jobs\\', \\'old_value\\': None, \\'new_value\\': \\'None\\'}, {\\'key\\': \\'oob_score\\', \\'old_value\\': None, \\'new_value\\': \\'False\\'}, {\\'key\\': \\'verbose\\', \\'old_value\\': None, \\'new_value\\': \\'0\\'}, {\\'key\\': \\'warm_start\\', \\'old_value\\': None, \\'new_value\\': \\'False\\'}]\\' for run ID=\\'7f02980206fc44ed82070542ee10bcf7\\'.\")]')]\n",
      "\n"
     ]
    },
    {
     "name": "stdout",
     "output_type": "stream",
     "text": [
      " 16%|█▌        | 8/50 [01:22<07:23, 10.56s/trial, best loss: 6.651438559376775]"
     ]
    },
    {
     "name": "stderr",
     "output_type": "stream",
     "text": [
      "2022/05/28 23:57:44 WARNING mlflow.utils.autologging_utils: Encountered unexpected error during sklearn autologging: The following failures occurred while performing one or more logging operations: [MlflowException('Failed to perform one or more operations on the run with ID 551dcdad346541be93cbf771e4a39ac1. Failed operations: [RestException(\"INVALID_PARAMETER_VALUE: Changing param values is not allowed. Params were already logged=\\'[{\\'key\\': \\'bootstrap\\', \\'old_value\\': None, \\'new_value\\': \\'True\\'}, {\\'key\\': \\'ccp_alpha\\', \\'old_value\\': None, \\'new_value\\': \\'0.0\\'}, {\\'key\\': \\'criterion\\', \\'old_value\\': None, \\'new_value\\': \\'squared_error\\'}, {\\'key\\': \\'max_features\\', \\'old_value\\': None, \\'new_value\\': \\'1.0\\'}, {\\'key\\': \\'max_leaf_nodes\\', \\'old_value\\': None, \\'new_value\\': \\'None\\'}, {\\'key\\': \\'max_samples\\', \\'old_value\\': None, \\'new_value\\': \\'None\\'}, {\\'key\\': \\'min_impurity_decrease\\', \\'old_value\\': None, \\'new_value\\': \\'0.0\\'}, {\\'key\\': \\'min_weight_fraction_leaf\\', \\'old_value\\': None, \\'new_value\\': \\'0.0\\'}, {\\'key\\': \\'n_jobs\\', \\'old_value\\': None, \\'new_value\\': \\'None\\'}, {\\'key\\': \\'oob_score\\', \\'old_value\\': None, \\'new_value\\': \\'False\\'}, {\\'key\\': \\'verbose\\', \\'old_value\\': None, \\'new_value\\': \\'0\\'}, {\\'key\\': \\'warm_start\\', \\'old_value\\': None, \\'new_value\\': \\'False\\'}]\\' for run ID=\\'551dcdad346541be93cbf771e4a39ac1\\'.\")]')]\n",
      "\n"
     ]
    },
    {
     "name": "stdout",
     "output_type": "stream",
     "text": [
      " 18%|█▊        | 9/50 [01:34<07:23, 10.82s/trial, best loss: 6.651438559376775]"
     ]
    },
    {
     "name": "stderr",
     "output_type": "stream",
     "text": [
      "2022/05/28 23:57:54 WARNING mlflow.utils.autologging_utils: Encountered unexpected error during sklearn autologging: The following failures occurred while performing one or more logging operations: [MlflowException('Failed to perform one or more operations on the run with ID f506f2fadd7544dd9c9813eaf5d54384. Failed operations: [RestException(\"INVALID_PARAMETER_VALUE: Changing param values is not allowed. Params were already logged=\\'[{\\'key\\': \\'bootstrap\\', \\'old_value\\': None, \\'new_value\\': \\'True\\'}, {\\'key\\': \\'ccp_alpha\\', \\'old_value\\': None, \\'new_value\\': \\'0.0\\'}, {\\'key\\': \\'criterion\\', \\'old_value\\': None, \\'new_value\\': \\'squared_error\\'}, {\\'key\\': \\'max_features\\', \\'old_value\\': None, \\'new_value\\': \\'1.0\\'}, {\\'key\\': \\'max_leaf_nodes\\', \\'old_value\\': None, \\'new_value\\': \\'None\\'}, {\\'key\\': \\'max_samples\\', \\'old_value\\': None, \\'new_value\\': \\'None\\'}, {\\'key\\': \\'min_impurity_decrease\\', \\'old_value\\': None, \\'new_value\\': \\'0.0\\'}, {\\'key\\': \\'min_weight_fraction_leaf\\', \\'old_value\\': None, \\'new_value\\': \\'0.0\\'}, {\\'key\\': \\'n_jobs\\', \\'old_value\\': None, \\'new_value\\': \\'None\\'}, {\\'key\\': \\'oob_score\\', \\'old_value\\': None, \\'new_value\\': \\'False\\'}, {\\'key\\': \\'verbose\\', \\'old_value\\': None, \\'new_value\\': \\'0\\'}, {\\'key\\': \\'warm_start\\', \\'old_value\\': None, \\'new_value\\': \\'False\\'}]\\' for run ID=\\'f506f2fadd7544dd9c9813eaf5d54384\\'.\")]')]\n",
      "\n"
     ]
    },
    {
     "name": "stdout",
     "output_type": "stream",
     "text": [
      " 20%|██        | 10/50 [01:44<07:00, 10.51s/trial, best loss: 6.651438559376775]"
     ]
    },
    {
     "name": "stderr",
     "output_type": "stream",
     "text": [
      "2022/05/28 23:58:02 WARNING mlflow.utils.autologging_utils: Encountered unexpected error during sklearn autologging: The following failures occurred while performing one or more logging operations: [MlflowException('Failed to perform one or more operations on the run with ID 6d1ff2b4a21645b6898430126c01ccc2. Failed operations: [RestException(\"INVALID_PARAMETER_VALUE: Changing param values is not allowed. Params were already logged=\\'[{\\'key\\': \\'bootstrap\\', \\'old_value\\': None, \\'new_value\\': \\'True\\'}, {\\'key\\': \\'ccp_alpha\\', \\'old_value\\': None, \\'new_value\\': \\'0.0\\'}, {\\'key\\': \\'criterion\\', \\'old_value\\': None, \\'new_value\\': \\'squared_error\\'}, {\\'key\\': \\'max_features\\', \\'old_value\\': None, \\'new_value\\': \\'1.0\\'}, {\\'key\\': \\'max_leaf_nodes\\', \\'old_value\\': None, \\'new_value\\': \\'None\\'}, {\\'key\\': \\'max_samples\\', \\'old_value\\': None, \\'new_value\\': \\'None\\'}, {\\'key\\': \\'min_impurity_decrease\\', \\'old_value\\': None, \\'new_value\\': \\'0.0\\'}, {\\'key\\': \\'min_weight_fraction_leaf\\', \\'old_value\\': None, \\'new_value\\': \\'0.0\\'}, {\\'key\\': \\'n_jobs\\', \\'old_value\\': None, \\'new_value\\': \\'None\\'}, {\\'key\\': \\'oob_score\\', \\'old_value\\': None, \\'new_value\\': \\'False\\'}, {\\'key\\': \\'verbose\\', \\'old_value\\': None, \\'new_value\\': \\'0\\'}, {\\'key\\': \\'warm_start\\', \\'old_value\\': None, \\'new_value\\': \\'False\\'}]\\' for run ID=\\'6d1ff2b4a21645b6898430126c01ccc2\\'.\")]')]\n",
      "\n"
     ]
    },
    {
     "name": "stdout",
     "output_type": "stream",
     "text": [
      " 22%|██▏       | 11/50 [01:52<06:26,  9.92s/trial, best loss: 6.642137287429206]"
     ]
    },
    {
     "name": "stderr",
     "output_type": "stream",
     "text": [
      "2022/05/28 23:58:09 WARNING mlflow.utils.autologging_utils: Encountered unexpected error during sklearn autologging: The following failures occurred while performing one or more logging operations: [MlflowException('Failed to perform one or more operations on the run with ID cdc1225fab1e4bcc8eacdee21b448ddb. Failed operations: [RestException(\"INVALID_PARAMETER_VALUE: Changing param values is not allowed. Params were already logged=\\'[{\\'key\\': \\'bootstrap\\', \\'old_value\\': None, \\'new_value\\': \\'True\\'}, {\\'key\\': \\'ccp_alpha\\', \\'old_value\\': None, \\'new_value\\': \\'0.0\\'}, {\\'key\\': \\'criterion\\', \\'old_value\\': None, \\'new_value\\': \\'squared_error\\'}, {\\'key\\': \\'max_features\\', \\'old_value\\': None, \\'new_value\\': \\'1.0\\'}, {\\'key\\': \\'max_leaf_nodes\\', \\'old_value\\': None, \\'new_value\\': \\'None\\'}, {\\'key\\': \\'max_samples\\', \\'old_value\\': None, \\'new_value\\': \\'None\\'}, {\\'key\\': \\'min_impurity_decrease\\', \\'old_value\\': None, \\'new_value\\': \\'0.0\\'}, {\\'key\\': \\'min_weight_fraction_leaf\\', \\'old_value\\': None, \\'new_value\\': \\'0.0\\'}, {\\'key\\': \\'n_jobs\\', \\'old_value\\': None, \\'new_value\\': \\'None\\'}, {\\'key\\': \\'oob_score\\', \\'old_value\\': None, \\'new_value\\': \\'False\\'}, {\\'key\\': \\'verbose\\', \\'old_value\\': None, \\'new_value\\': \\'0\\'}, {\\'key\\': \\'warm_start\\', \\'old_value\\': None, \\'new_value\\': \\'False\\'}]\\' for run ID=\\'cdc1225fab1e4bcc8eacdee21b448ddb\\'.\")]')]\n",
      "\n"
     ]
    },
    {
     "name": "stdout",
     "output_type": "stream",
     "text": [
      " 24%|██▍       | 12/50 [01:59<05:41,  8.99s/trial, best loss: 6.642137287429206]"
     ]
    },
    {
     "name": "stderr",
     "output_type": "stream",
     "text": [
      "2022/05/28 23:58:13 WARNING mlflow.utils.autologging_utils: Encountered unexpected error during sklearn autologging: The following failures occurred while performing one or more logging operations: [MlflowException('Failed to perform one or more operations on the run with ID b8a94b166ea24e2989e0e693b0873033. Failed operations: [RestException(\"INVALID_PARAMETER_VALUE: Changing param values is not allowed. Params were already logged=\\'[{\\'key\\': \\'bootstrap\\', \\'old_value\\': None, \\'new_value\\': \\'True\\'}, {\\'key\\': \\'ccp_alpha\\', \\'old_value\\': None, \\'new_value\\': \\'0.0\\'}, {\\'key\\': \\'criterion\\', \\'old_value\\': None, \\'new_value\\': \\'squared_error\\'}, {\\'key\\': \\'max_features\\', \\'old_value\\': None, \\'new_value\\': \\'1.0\\'}, {\\'key\\': \\'max_leaf_nodes\\', \\'old_value\\': None, \\'new_value\\': \\'None\\'}, {\\'key\\': \\'max_samples\\', \\'old_value\\': None, \\'new_value\\': \\'None\\'}, {\\'key\\': \\'min_impurity_decrease\\', \\'old_value\\': None, \\'new_value\\': \\'0.0\\'}, {\\'key\\': \\'min_weight_fraction_leaf\\', \\'old_value\\': None, \\'new_value\\': \\'0.0\\'}, {\\'key\\': \\'n_jobs\\', \\'old_value\\': None, \\'new_value\\': \\'None\\'}, {\\'key\\': \\'oob_score\\', \\'old_value\\': None, \\'new_value\\': \\'False\\'}, {\\'key\\': \\'verbose\\', \\'old_value\\': None, \\'new_value\\': \\'0\\'}, {\\'key\\': \\'warm_start\\', \\'old_value\\': None, \\'new_value\\': \\'False\\'}]\\' for run ID=\\'b8a94b166ea24e2989e0e693b0873033\\'.\")]')]\n",
      "\n"
     ]
    },
    {
     "name": "stdout",
     "output_type": "stream",
     "text": [
      " 26%|██▌       | 13/50 [02:03<04:37,  7.50s/trial, best loss: 6.642137287429206]"
     ]
    },
    {
     "name": "stderr",
     "output_type": "stream",
     "text": [
      "2022/05/28 23:58:21 WARNING mlflow.utils.autologging_utils: Encountered unexpected error during sklearn autologging: The following failures occurred while performing one or more logging operations: [MlflowException('Failed to perform one or more operations on the run with ID a0ee8b5e05a5456494bc35985d2c3ef7. Failed operations: [RestException(\"INVALID_PARAMETER_VALUE: Changing param values is not allowed. Params were already logged=\\'[{\\'key\\': \\'bootstrap\\', \\'old_value\\': None, \\'new_value\\': \\'True\\'}, {\\'key\\': \\'ccp_alpha\\', \\'old_value\\': None, \\'new_value\\': \\'0.0\\'}, {\\'key\\': \\'criterion\\', \\'old_value\\': None, \\'new_value\\': \\'squared_error\\'}, {\\'key\\': \\'max_features\\', \\'old_value\\': None, \\'new_value\\': \\'1.0\\'}, {\\'key\\': \\'max_leaf_nodes\\', \\'old_value\\': None, \\'new_value\\': \\'None\\'}, {\\'key\\': \\'max_samples\\', \\'old_value\\': None, \\'new_value\\': \\'None\\'}, {\\'key\\': \\'min_impurity_decrease\\', \\'old_value\\': None, \\'new_value\\': \\'0.0\\'}, {\\'key\\': \\'min_weight_fraction_leaf\\', \\'old_value\\': None, \\'new_value\\': \\'0.0\\'}, {\\'key\\': \\'n_jobs\\', \\'old_value\\': None, \\'new_value\\': \\'None\\'}, {\\'key\\': \\'oob_score\\', \\'old_value\\': None, \\'new_value\\': \\'False\\'}, {\\'key\\': \\'verbose\\', \\'old_value\\': None, \\'new_value\\': \\'0\\'}, {\\'key\\': \\'warm_start\\', \\'old_value\\': None, \\'new_value\\': \\'False\\'}]\\' for run ID=\\'a0ee8b5e05a5456494bc35985d2c3ef7\\'.\")]')]\n",
      "\n"
     ]
    },
    {
     "name": "stdout",
     "output_type": "stream",
     "text": [
      " 28%|██▊       | 14/50 [02:11<04:34,  7.63s/trial, best loss: 6.642137287429206]"
     ]
    },
    {
     "name": "stderr",
     "output_type": "stream",
     "text": [
      "2022/05/28 23:58:33 WARNING mlflow.utils.autologging_utils: Encountered unexpected error during sklearn autologging: The following failures occurred while performing one or more logging operations: [MlflowException('Failed to perform one or more operations on the run with ID 182d15a2cc6243b49a5177e7ab5d25f4. Failed operations: [RestException(\"INVALID_PARAMETER_VALUE: Changing param values is not allowed. Params were already logged=\\'[{\\'key\\': \\'bootstrap\\', \\'old_value\\': None, \\'new_value\\': \\'True\\'}, {\\'key\\': \\'ccp_alpha\\', \\'old_value\\': None, \\'new_value\\': \\'0.0\\'}, {\\'key\\': \\'criterion\\', \\'old_value\\': None, \\'new_value\\': \\'squared_error\\'}, {\\'key\\': \\'max_features\\', \\'old_value\\': None, \\'new_value\\': \\'1.0\\'}, {\\'key\\': \\'max_leaf_nodes\\', \\'old_value\\': None, \\'new_value\\': \\'None\\'}, {\\'key\\': \\'max_samples\\', \\'old_value\\': None, \\'new_value\\': \\'None\\'}, {\\'key\\': \\'min_impurity_decrease\\', \\'old_value\\': None, \\'new_value\\': \\'0.0\\'}, {\\'key\\': \\'min_weight_fraction_leaf\\', \\'old_value\\': None, \\'new_value\\': \\'0.0\\'}, {\\'key\\': \\'n_jobs\\', \\'old_value\\': None, \\'new_value\\': \\'None\\'}, {\\'key\\': \\'oob_score\\', \\'old_value\\': None, \\'new_value\\': \\'False\\'}, {\\'key\\': \\'verbose\\', \\'old_value\\': None, \\'new_value\\': \\'0\\'}, {\\'key\\': \\'warm_start\\', \\'old_value\\': None, \\'new_value\\': \\'False\\'}]\\' for run ID=\\'182d15a2cc6243b49a5177e7ab5d25f4\\'.\")]')]\n",
      "\n"
     ]
    },
    {
     "name": "stdout",
     "output_type": "stream",
     "text": [
      " 30%|███       | 15/50 [02:23<05:08,  8.80s/trial, best loss: 6.642137287429206]"
     ]
    },
    {
     "name": "stderr",
     "output_type": "stream",
     "text": [
      "2022/05/28 23:58:40 WARNING mlflow.utils.autologging_utils: Encountered unexpected error during sklearn autologging: The following failures occurred while performing one or more logging operations: [MlflowException('Failed to perform one or more operations on the run with ID de8eadf1eb5a4d1eb9c34c8ef9a168fc. Failed operations: [RestException(\"INVALID_PARAMETER_VALUE: Changing param values is not allowed. Params were already logged=\\'[{\\'key\\': \\'bootstrap\\', \\'old_value\\': None, \\'new_value\\': \\'True\\'}, {\\'key\\': \\'ccp_alpha\\', \\'old_value\\': None, \\'new_value\\': \\'0.0\\'}, {\\'key\\': \\'criterion\\', \\'old_value\\': None, \\'new_value\\': \\'squared_error\\'}, {\\'key\\': \\'max_features\\', \\'old_value\\': None, \\'new_value\\': \\'1.0\\'}, {\\'key\\': \\'max_leaf_nodes\\', \\'old_value\\': None, \\'new_value\\': \\'None\\'}, {\\'key\\': \\'max_samples\\', \\'old_value\\': None, \\'new_value\\': \\'None\\'}, {\\'key\\': \\'min_impurity_decrease\\', \\'old_value\\': None, \\'new_value\\': \\'0.0\\'}, {\\'key\\': \\'min_weight_fraction_leaf\\', \\'old_value\\': None, \\'new_value\\': \\'0.0\\'}, {\\'key\\': \\'n_jobs\\', \\'old_value\\': None, \\'new_value\\': \\'None\\'}, {\\'key\\': \\'oob_score\\', \\'old_value\\': None, \\'new_value\\': \\'False\\'}, {\\'key\\': \\'verbose\\', \\'old_value\\': None, \\'new_value\\': \\'0\\'}, {\\'key\\': \\'warm_start\\', \\'old_value\\': None, \\'new_value\\': \\'False\\'}]\\' for run ID=\\'de8eadf1eb5a4d1eb9c34c8ef9a168fc\\'.\")]')]\n",
      "\n"
     ]
    },
    {
     "name": "stdout",
     "output_type": "stream",
     "text": [
      " 32%|███▏      | 16/50 [02:30<04:45,  8.39s/trial, best loss: 6.642137287429206]"
     ]
    },
    {
     "name": "stderr",
     "output_type": "stream",
     "text": [
      "2022/05/28 23:58:51 WARNING mlflow.utils.autologging_utils: Encountered unexpected error during sklearn autologging: The following failures occurred while performing one or more logging operations: [MlflowException('Failed to perform one or more operations on the run with ID a84079675e4b470898fd479475b9c0b0. Failed operations: [RestException(\"INVALID_PARAMETER_VALUE: Changing param values is not allowed. Params were already logged=\\'[{\\'key\\': \\'bootstrap\\', \\'old_value\\': None, \\'new_value\\': \\'True\\'}, {\\'key\\': \\'ccp_alpha\\', \\'old_value\\': None, \\'new_value\\': \\'0.0\\'}, {\\'key\\': \\'criterion\\', \\'old_value\\': None, \\'new_value\\': \\'squared_error\\'}, {\\'key\\': \\'max_features\\', \\'old_value\\': None, \\'new_value\\': \\'1.0\\'}, {\\'key\\': \\'max_leaf_nodes\\', \\'old_value\\': None, \\'new_value\\': \\'None\\'}, {\\'key\\': \\'max_samples\\', \\'old_value\\': None, \\'new_value\\': \\'None\\'}, {\\'key\\': \\'min_impurity_decrease\\', \\'old_value\\': None, \\'new_value\\': \\'0.0\\'}, {\\'key\\': \\'min_weight_fraction_leaf\\', \\'old_value\\': None, \\'new_value\\': \\'0.0\\'}, {\\'key\\': \\'n_jobs\\', \\'old_value\\': None, \\'new_value\\': \\'None\\'}, {\\'key\\': \\'oob_score\\', \\'old_value\\': None, \\'new_value\\': \\'False\\'}, {\\'key\\': \\'verbose\\', \\'old_value\\': None, \\'new_value\\': \\'0\\'}, {\\'key\\': \\'warm_start\\', \\'old_value\\': None, \\'new_value\\': \\'False\\'}]\\' for run ID=\\'a84079675e4b470898fd479475b9c0b0\\'.\")]')]\n",
      "\n"
     ]
    },
    {
     "name": "stdout",
     "output_type": "stream",
     "text": [
      " 34%|███▍      | 17/50 [02:41<05:07,  9.33s/trial, best loss: 6.642137287429206]"
     ]
    },
    {
     "name": "stderr",
     "output_type": "stream",
     "text": [
      "2022/05/28 23:59:09 WARNING mlflow.utils.autologging_utils: Encountered unexpected error during sklearn autologging: The following failures occurred while performing one or more logging operations: [MlflowException('Failed to perform one or more operations on the run with ID 59fc4823fe88428eb13396593fd8ba04. Failed operations: [RestException(\"INVALID_PARAMETER_VALUE: Changing param values is not allowed. Params were already logged=\\'[{\\'key\\': \\'bootstrap\\', \\'old_value\\': None, \\'new_value\\': \\'True\\'}, {\\'key\\': \\'ccp_alpha\\', \\'old_value\\': None, \\'new_value\\': \\'0.0\\'}, {\\'key\\': \\'criterion\\', \\'old_value\\': None, \\'new_value\\': \\'squared_error\\'}, {\\'key\\': \\'max_features\\', \\'old_value\\': None, \\'new_value\\': \\'1.0\\'}, {\\'key\\': \\'max_leaf_nodes\\', \\'old_value\\': None, \\'new_value\\': \\'None\\'}, {\\'key\\': \\'max_samples\\', \\'old_value\\': None, \\'new_value\\': \\'None\\'}, {\\'key\\': \\'min_impurity_decrease\\', \\'old_value\\': None, \\'new_value\\': \\'0.0\\'}, {\\'key\\': \\'min_weight_fraction_leaf\\', \\'old_value\\': None, \\'new_value\\': \\'0.0\\'}, {\\'key\\': \\'n_jobs\\', \\'old_value\\': None, \\'new_value\\': \\'None\\'}, {\\'key\\': \\'oob_score\\', \\'old_value\\': None, \\'new_value\\': \\'False\\'}, {\\'key\\': \\'verbose\\', \\'old_value\\': None, \\'new_value\\': \\'0\\'}, {\\'key\\': \\'warm_start\\', \\'old_value\\': None, \\'new_value\\': \\'False\\'}]\\' for run ID=\\'59fc4823fe88428eb13396593fd8ba04\\'.\")]')]\n",
      "\n"
     ]
    },
    {
     "name": "stdout",
     "output_type": "stream",
     "text": [
      " 36%|███▌      | 18/50 [02:59<06:18, 11.82s/trial, best loss: 6.629728007710133]"
     ]
    },
    {
     "name": "stderr",
     "output_type": "stream",
     "text": [
      "2022/05/28 23:59:15 WARNING mlflow.utils.autologging_utils: Encountered unexpected error during sklearn autologging: The following failures occurred while performing one or more logging operations: [MlflowException('Failed to perform one or more operations on the run with ID 52f6b64d8e1b47b1aca5e777b415ecc5. Failed operations: [RestException(\"INVALID_PARAMETER_VALUE: Changing param values is not allowed. Params were already logged=\\'[{\\'key\\': \\'bootstrap\\', \\'old_value\\': None, \\'new_value\\': \\'True\\'}, {\\'key\\': \\'ccp_alpha\\', \\'old_value\\': None, \\'new_value\\': \\'0.0\\'}, {\\'key\\': \\'criterion\\', \\'old_value\\': None, \\'new_value\\': \\'squared_error\\'}, {\\'key\\': \\'max_features\\', \\'old_value\\': None, \\'new_value\\': \\'1.0\\'}, {\\'key\\': \\'max_leaf_nodes\\', \\'old_value\\': None, \\'new_value\\': \\'None\\'}, {\\'key\\': \\'max_samples\\', \\'old_value\\': None, \\'new_value\\': \\'None\\'}, {\\'key\\': \\'min_impurity_decrease\\', \\'old_value\\': None, \\'new_value\\': \\'0.0\\'}, {\\'key\\': \\'min_weight_fraction_leaf\\', \\'old_value\\': None, \\'new_value\\': \\'0.0\\'}, {\\'key\\': \\'n_jobs\\', \\'old_value\\': None, \\'new_value\\': \\'None\\'}, {\\'key\\': \\'oob_score\\', \\'old_value\\': None, \\'new_value\\': \\'False\\'}, {\\'key\\': \\'verbose\\', \\'old_value\\': None, \\'new_value\\': \\'0\\'}, {\\'key\\': \\'warm_start\\', \\'old_value\\': None, \\'new_value\\': \\'False\\'}]\\' for run ID=\\'52f6b64d8e1b47b1aca5e777b415ecc5\\'.\")]')]\n",
      "\n"
     ]
    },
    {
     "name": "stdout",
     "output_type": "stream",
     "text": [
      " 38%|███▊      | 19/50 [03:05<05:14, 10.16s/trial, best loss: 6.629728007710133]"
     ]
    },
    {
     "name": "stderr",
     "output_type": "stream",
     "text": [
      "2022/05/28 23:59:20 WARNING mlflow.utils.autologging_utils: Encountered unexpected error during sklearn autologging: The following failures occurred while performing one or more logging operations: [MlflowException('Failed to perform one or more operations on the run with ID d8c569119bab424aaea3b349c58902f4. Failed operations: [RestException(\"INVALID_PARAMETER_VALUE: Changing param values is not allowed. Params were already logged=\\'[{\\'key\\': \\'bootstrap\\', \\'old_value\\': None, \\'new_value\\': \\'True\\'}, {\\'key\\': \\'ccp_alpha\\', \\'old_value\\': None, \\'new_value\\': \\'0.0\\'}, {\\'key\\': \\'criterion\\', \\'old_value\\': None, \\'new_value\\': \\'squared_error\\'}, {\\'key\\': \\'max_features\\', \\'old_value\\': None, \\'new_value\\': \\'1.0\\'}, {\\'key\\': \\'max_leaf_nodes\\', \\'old_value\\': None, \\'new_value\\': \\'None\\'}, {\\'key\\': \\'max_samples\\', \\'old_value\\': None, \\'new_value\\': \\'None\\'}, {\\'key\\': \\'min_impurity_decrease\\', \\'old_value\\': None, \\'new_value\\': \\'0.0\\'}, {\\'key\\': \\'min_weight_fraction_leaf\\', \\'old_value\\': None, \\'new_value\\': \\'0.0\\'}, {\\'key\\': \\'n_jobs\\', \\'old_value\\': None, \\'new_value\\': \\'None\\'}, {\\'key\\': \\'oob_score\\', \\'old_value\\': None, \\'new_value\\': \\'False\\'}, {\\'key\\': \\'verbose\\', \\'old_value\\': None, \\'new_value\\': \\'0\\'}, {\\'key\\': \\'warm_start\\', \\'old_value\\': None, \\'new_value\\': \\'False\\'}]\\' for run ID=\\'d8c569119bab424aaea3b349c58902f4\\'.\")]')]\n",
      "\n"
     ]
    },
    {
     "name": "stdout",
     "output_type": "stream",
     "text": [
      " 40%|████      | 20/50 [03:10<04:17,  8.58s/trial, best loss: 6.629728007710133]"
     ]
    },
    {
     "name": "stderr",
     "output_type": "stream",
     "text": [
      "2022/05/28 23:59:44 WARNING mlflow.utils.autologging_utils: Encountered unexpected error during sklearn autologging: The following failures occurred while performing one or more logging operations: [MlflowException('Failed to perform one or more operations on the run with ID 774f9741bb9e4554aecf8c58d93202d8. Failed operations: [RestException(\"INVALID_PARAMETER_VALUE: Changing param values is not allowed. Params were already logged=\\'[{\\'key\\': \\'bootstrap\\', \\'old_value\\': None, \\'new_value\\': \\'True\\'}, {\\'key\\': \\'ccp_alpha\\', \\'old_value\\': None, \\'new_value\\': \\'0.0\\'}, {\\'key\\': \\'criterion\\', \\'old_value\\': None, \\'new_value\\': \\'squared_error\\'}, {\\'key\\': \\'max_features\\', \\'old_value\\': None, \\'new_value\\': \\'1.0\\'}, {\\'key\\': \\'max_leaf_nodes\\', \\'old_value\\': None, \\'new_value\\': \\'None\\'}, {\\'key\\': \\'max_samples\\', \\'old_value\\': None, \\'new_value\\': \\'None\\'}, {\\'key\\': \\'min_impurity_decrease\\', \\'old_value\\': None, \\'new_value\\': \\'0.0\\'}, {\\'key\\': \\'min_weight_fraction_leaf\\', \\'old_value\\': None, \\'new_value\\': \\'0.0\\'}, {\\'key\\': \\'n_jobs\\', \\'old_value\\': None, \\'new_value\\': \\'None\\'}, {\\'key\\': \\'oob_score\\', \\'old_value\\': None, \\'new_value\\': \\'False\\'}, {\\'key\\': \\'verbose\\', \\'old_value\\': None, \\'new_value\\': \\'0\\'}, {\\'key\\': \\'warm_start\\', \\'old_value\\': None, \\'new_value\\': \\'False\\'}]\\' for run ID=\\'774f9741bb9e4554aecf8c58d93202d8\\'.\")]')]\n",
      "\n"
     ]
    },
    {
     "name": "stdout",
     "output_type": "stream",
     "text": [
      " 42%|████▏     | 21/50 [03:34<06:24, 13.25s/trial, best loss: 6.629728007710133]"
     ]
    },
    {
     "name": "stderr",
     "output_type": "stream",
     "text": [
      "2022/05/29 00:00:03 WARNING mlflow.utils.autologging_utils: Encountered unexpected error during sklearn autologging: The following failures occurred while performing one or more logging operations: [MlflowException('Failed to perform one or more operations on the run with ID 68f94662cad24c0f8f94a697f32254d9. Failed operations: [RestException(\"INVALID_PARAMETER_VALUE: Changing param values is not allowed. Params were already logged=\\'[{\\'key\\': \\'bootstrap\\', \\'old_value\\': None, \\'new_value\\': \\'True\\'}, {\\'key\\': \\'ccp_alpha\\', \\'old_value\\': None, \\'new_value\\': \\'0.0\\'}, {\\'key\\': \\'criterion\\', \\'old_value\\': None, \\'new_value\\': \\'squared_error\\'}, {\\'key\\': \\'max_features\\', \\'old_value\\': None, \\'new_value\\': \\'1.0\\'}, {\\'key\\': \\'max_leaf_nodes\\', \\'old_value\\': None, \\'new_value\\': \\'None\\'}, {\\'key\\': \\'max_samples\\', \\'old_value\\': None, \\'new_value\\': \\'None\\'}, {\\'key\\': \\'min_impurity_decrease\\', \\'old_value\\': None, \\'new_value\\': \\'0.0\\'}, {\\'key\\': \\'min_weight_fraction_leaf\\', \\'old_value\\': None, \\'new_value\\': \\'0.0\\'}, {\\'key\\': \\'n_jobs\\', \\'old_value\\': None, \\'new_value\\': \\'None\\'}, {\\'key\\': \\'oob_score\\', \\'old_value\\': None, \\'new_value\\': \\'False\\'}, {\\'key\\': \\'verbose\\', \\'old_value\\': None, \\'new_value\\': \\'0\\'}, {\\'key\\': \\'warm_start\\', \\'old_value\\': None, \\'new_value\\': \\'False\\'}]\\' for run ID=\\'68f94662cad24c0f8f94a697f32254d9\\'.\")]')]\n",
      "\n"
     ]
    },
    {
     "name": "stdout",
     "output_type": "stream",
     "text": [
      " 44%|████▍     | 22/50 [03:53<06:56, 14.88s/trial, best loss: 6.629728007710133]"
     ]
    },
    {
     "name": "stderr",
     "output_type": "stream",
     "text": [
      "2022/05/29 00:00:31 WARNING mlflow.utils.autologging_utils: Encountered unexpected error during sklearn autologging: The following failures occurred while performing one or more logging operations: [MlflowException('Failed to perform one or more operations on the run with ID cc4b622fdfd34dfcac61585cb68f74e1. Failed operations: [RestException(\"INVALID_PARAMETER_VALUE: Changing param values is not allowed. Params were already logged=\\'[{\\'key\\': \\'bootstrap\\', \\'old_value\\': None, \\'new_value\\': \\'True\\'}, {\\'key\\': \\'ccp_alpha\\', \\'old_value\\': None, \\'new_value\\': \\'0.0\\'}, {\\'key\\': \\'criterion\\', \\'old_value\\': None, \\'new_value\\': \\'squared_error\\'}, {\\'key\\': \\'max_features\\', \\'old_value\\': None, \\'new_value\\': \\'1.0\\'}, {\\'key\\': \\'max_leaf_nodes\\', \\'old_value\\': None, \\'new_value\\': \\'None\\'}, {\\'key\\': \\'max_samples\\', \\'old_value\\': None, \\'new_value\\': \\'None\\'}, {\\'key\\': \\'min_impurity_decrease\\', \\'old_value\\': None, \\'new_value\\': \\'0.0\\'}, {\\'key\\': \\'min_weight_fraction_leaf\\', \\'old_value\\': None, \\'new_value\\': \\'0.0\\'}, {\\'key\\': \\'n_jobs\\', \\'old_value\\': None, \\'new_value\\': \\'None\\'}, {\\'key\\': \\'oob_score\\', \\'old_value\\': None, \\'new_value\\': \\'False\\'}, {\\'key\\': \\'verbose\\', \\'old_value\\': None, \\'new_value\\': \\'0\\'}, {\\'key\\': \\'warm_start\\', \\'old_value\\': None, \\'new_value\\': \\'False\\'}]\\' for run ID=\\'cc4b622fdfd34dfcac61585cb68f74e1\\'.\")]')]\n",
      "\n"
     ]
    },
    {
     "name": "stdout",
     "output_type": "stream",
     "text": [
      " 46%|████▌     | 23/50 [04:21<08:25, 18.73s/trial, best loss: 6.629728007710133]"
     ]
    },
    {
     "name": "stderr",
     "output_type": "stream",
     "text": [
      "2022/05/29 00:00:55 WARNING mlflow.utils.autologging_utils: Encountered unexpected error during sklearn autologging: The following failures occurred while performing one or more logging operations: [MlflowException('Failed to perform one or more operations on the run with ID c0a19849cc1a455f868ddebc380f1262. Failed operations: [RestException(\"INVALID_PARAMETER_VALUE: Changing param values is not allowed. Params were already logged=\\'[{\\'key\\': \\'bootstrap\\', \\'old_value\\': None, \\'new_value\\': \\'True\\'}, {\\'key\\': \\'ccp_alpha\\', \\'old_value\\': None, \\'new_value\\': \\'0.0\\'}, {\\'key\\': \\'criterion\\', \\'old_value\\': None, \\'new_value\\': \\'squared_error\\'}, {\\'key\\': \\'max_features\\', \\'old_value\\': None, \\'new_value\\': \\'1.0\\'}, {\\'key\\': \\'max_leaf_nodes\\', \\'old_value\\': None, \\'new_value\\': \\'None\\'}, {\\'key\\': \\'max_samples\\', \\'old_value\\': None, \\'new_value\\': \\'None\\'}, {\\'key\\': \\'min_impurity_decrease\\', \\'old_value\\': None, \\'new_value\\': \\'0.0\\'}, {\\'key\\': \\'min_weight_fraction_leaf\\', \\'old_value\\': None, \\'new_value\\': \\'0.0\\'}, {\\'key\\': \\'n_jobs\\', \\'old_value\\': None, \\'new_value\\': \\'None\\'}, {\\'key\\': \\'oob_score\\', \\'old_value\\': None, \\'new_value\\': \\'False\\'}, {\\'key\\': \\'verbose\\', \\'old_value\\': None, \\'new_value\\': \\'0\\'}, {\\'key\\': \\'warm_start\\', \\'old_value\\': None, \\'new_value\\': \\'False\\'}]\\' for run ID=\\'c0a19849cc1a455f868ddebc380f1262\\'.\")]')]\n",
      "\n"
     ]
    },
    {
     "name": "stdout",
     "output_type": "stream",
     "text": [
      " 48%|████▊     | 24/50 [04:45<08:47, 20.29s/trial, best loss: 6.629728007710133]"
     ]
    },
    {
     "name": "stderr",
     "output_type": "stream",
     "text": [
      "2022/05/29 00:01:14 WARNING mlflow.utils.autologging_utils: Encountered unexpected error during sklearn autologging: The following failures occurred while performing one or more logging operations: [MlflowException('Failed to perform one or more operations on the run with ID cd7e9a8ae23d48bba37533d1c67dfd2a. Failed operations: [RestException(\"INVALID_PARAMETER_VALUE: Changing param values is not allowed. Params were already logged=\\'[{\\'key\\': \\'bootstrap\\', \\'old_value\\': None, \\'new_value\\': \\'True\\'}, {\\'key\\': \\'ccp_alpha\\', \\'old_value\\': None, \\'new_value\\': \\'0.0\\'}, {\\'key\\': \\'criterion\\', \\'old_value\\': None, \\'new_value\\': \\'squared_error\\'}, {\\'key\\': \\'max_features\\', \\'old_value\\': None, \\'new_value\\': \\'1.0\\'}, {\\'key\\': \\'max_leaf_nodes\\', \\'old_value\\': None, \\'new_value\\': \\'None\\'}, {\\'key\\': \\'max_samples\\', \\'old_value\\': None, \\'new_value\\': \\'None\\'}, {\\'key\\': \\'min_impurity_decrease\\', \\'old_value\\': None, \\'new_value\\': \\'0.0\\'}, {\\'key\\': \\'min_weight_fraction_leaf\\', \\'old_value\\': None, \\'new_value\\': \\'0.0\\'}, {\\'key\\': \\'n_jobs\\', \\'old_value\\': None, \\'new_value\\': \\'None\\'}, {\\'key\\': \\'oob_score\\', \\'old_value\\': None, \\'new_value\\': \\'False\\'}, {\\'key\\': \\'verbose\\', \\'old_value\\': None, \\'new_value\\': \\'0\\'}, {\\'key\\': \\'warm_start\\', \\'old_value\\': None, \\'new_value\\': \\'False\\'}]\\' for run ID=\\'cd7e9a8ae23d48bba37533d1c67dfd2a\\'.\")]')]\n",
      "\n"
     ]
    },
    {
     "name": "stdout",
     "output_type": "stream",
     "text": [
      " 50%|█████     | 25/50 [05:04<08:20, 20.03s/trial, best loss: 6.629728007710133]"
     ]
    },
    {
     "name": "stderr",
     "output_type": "stream",
     "text": [
      "2022/05/29 00:01:33 WARNING mlflow.utils.autologging_utils: Encountered unexpected error during sklearn autologging: The following failures occurred while performing one or more logging operations: [MlflowException('Failed to perform one or more operations on the run with ID 405540e976174d5b9a27434ffe2cf280. Failed operations: [RestException(\"INVALID_PARAMETER_VALUE: Changing param values is not allowed. Params were already logged=\\'[{\\'key\\': \\'bootstrap\\', \\'old_value\\': None, \\'new_value\\': \\'True\\'}, {\\'key\\': \\'ccp_alpha\\', \\'old_value\\': None, \\'new_value\\': \\'0.0\\'}, {\\'key\\': \\'criterion\\', \\'old_value\\': None, \\'new_value\\': \\'squared_error\\'}, {\\'key\\': \\'max_features\\', \\'old_value\\': None, \\'new_value\\': \\'1.0\\'}, {\\'key\\': \\'max_leaf_nodes\\', \\'old_value\\': None, \\'new_value\\': \\'None\\'}, {\\'key\\': \\'max_samples\\', \\'old_value\\': None, \\'new_value\\': \\'None\\'}, {\\'key\\': \\'min_impurity_decrease\\', \\'old_value\\': None, \\'new_value\\': \\'0.0\\'}, {\\'key\\': \\'min_weight_fraction_leaf\\', \\'old_value\\': None, \\'new_value\\': \\'0.0\\'}, {\\'key\\': \\'n_jobs\\', \\'old_value\\': None, \\'new_value\\': \\'None\\'}, {\\'key\\': \\'oob_score\\', \\'old_value\\': None, \\'new_value\\': \\'False\\'}, {\\'key\\': \\'verbose\\', \\'old_value\\': None, \\'new_value\\': \\'0\\'}, {\\'key\\': \\'warm_start\\', \\'old_value\\': None, \\'new_value\\': \\'False\\'}]\\' for run ID=\\'405540e976174d5b9a27434ffe2cf280\\'.\")]')]\n",
      "\n"
     ]
    },
    {
     "name": "stdout",
     "output_type": "stream",
     "text": [
      " 52%|█████▏    | 26/50 [05:23<07:55, 19.79s/trial, best loss: 6.629728007710133]"
     ]
    },
    {
     "name": "stderr",
     "output_type": "stream",
     "text": [
      "2022/05/29 00:01:44 WARNING mlflow.utils.autologging_utils: Encountered unexpected error during sklearn autologging: The following failures occurred while performing one or more logging operations: [MlflowException('Failed to perform one or more operations on the run with ID 5d2590d7d4f74b7089c432c4da408a65. Failed operations: [RestException(\"INVALID_PARAMETER_VALUE: Changing param values is not allowed. Params were already logged=\\'[{\\'key\\': \\'bootstrap\\', \\'old_value\\': None, \\'new_value\\': \\'True\\'}, {\\'key\\': \\'ccp_alpha\\', \\'old_value\\': None, \\'new_value\\': \\'0.0\\'}, {\\'key\\': \\'criterion\\', \\'old_value\\': None, \\'new_value\\': \\'squared_error\\'}, {\\'key\\': \\'max_features\\', \\'old_value\\': None, \\'new_value\\': \\'1.0\\'}, {\\'key\\': \\'max_leaf_nodes\\', \\'old_value\\': None, \\'new_value\\': \\'None\\'}, {\\'key\\': \\'max_samples\\', \\'old_value\\': None, \\'new_value\\': \\'None\\'}, {\\'key\\': \\'min_impurity_decrease\\', \\'old_value\\': None, \\'new_value\\': \\'0.0\\'}, {\\'key\\': \\'min_weight_fraction_leaf\\', \\'old_value\\': None, \\'new_value\\': \\'0.0\\'}, {\\'key\\': \\'n_jobs\\', \\'old_value\\': None, \\'new_value\\': \\'None\\'}, {\\'key\\': \\'oob_score\\', \\'old_value\\': None, \\'new_value\\': \\'False\\'}, {\\'key\\': \\'verbose\\', \\'old_value\\': None, \\'new_value\\': \\'0\\'}, {\\'key\\': \\'warm_start\\', \\'old_value\\': None, \\'new_value\\': \\'False\\'}]\\' for run ID=\\'5d2590d7d4f74b7089c432c4da408a65\\'.\")]')]\n",
      "\n"
     ]
    },
    {
     "name": "stdout",
     "output_type": "stream",
     "text": [
      " 54%|█████▍    | 27/50 [05:34<06:33, 17.10s/trial, best loss: 6.629728007710133]"
     ]
    },
    {
     "name": "stderr",
     "output_type": "stream",
     "text": [
      "2022/05/29 00:02:06 WARNING mlflow.utils.autologging_utils: Encountered unexpected error during sklearn autologging: The following failures occurred while performing one or more logging operations: [MlflowException('Failed to perform one or more operations on the run with ID a837d5e0a61f4ac7a7351f071e835257. Failed operations: [RestException(\"INVALID_PARAMETER_VALUE: Changing param values is not allowed. Params were already logged=\\'[{\\'key\\': \\'bootstrap\\', \\'old_value\\': None, \\'new_value\\': \\'True\\'}, {\\'key\\': \\'ccp_alpha\\', \\'old_value\\': None, \\'new_value\\': \\'0.0\\'}, {\\'key\\': \\'criterion\\', \\'old_value\\': None, \\'new_value\\': \\'squared_error\\'}, {\\'key\\': \\'max_features\\', \\'old_value\\': None, \\'new_value\\': \\'1.0\\'}, {\\'key\\': \\'max_leaf_nodes\\', \\'old_value\\': None, \\'new_value\\': \\'None\\'}, {\\'key\\': \\'max_samples\\', \\'old_value\\': None, \\'new_value\\': \\'None\\'}, {\\'key\\': \\'min_impurity_decrease\\', \\'old_value\\': None, \\'new_value\\': \\'0.0\\'}, {\\'key\\': \\'min_weight_fraction_leaf\\', \\'old_value\\': None, \\'new_value\\': \\'0.0\\'}, {\\'key\\': \\'n_jobs\\', \\'old_value\\': None, \\'new_value\\': \\'None\\'}, {\\'key\\': \\'oob_score\\', \\'old_value\\': None, \\'new_value\\': \\'False\\'}, {\\'key\\': \\'verbose\\', \\'old_value\\': None, \\'new_value\\': \\'0\\'}, {\\'key\\': \\'warm_start\\', \\'old_value\\': None, \\'new_value\\': \\'False\\'}]\\' for run ID=\\'a837d5e0a61f4ac7a7351f071e835257\\'.\")]')]\n",
      "\n"
     ]
    },
    {
     "name": "stdout",
     "output_type": "stream",
     "text": [
      " 56%|█████▌    | 28/50 [05:56<06:46, 18.48s/trial, best loss: 6.629728007710133]"
     ]
    },
    {
     "name": "stderr",
     "output_type": "stream",
     "text": [
      "2022/05/29 00:02:14 WARNING mlflow.utils.autologging_utils: Encountered unexpected error during sklearn autologging: The following failures occurred while performing one or more logging operations: [MlflowException('Failed to perform one or more operations on the run with ID fde117e80b23400cae046175b2a30336. Failed operations: [RestException(\"INVALID_PARAMETER_VALUE: Changing param values is not allowed. Params were already logged=\\'[{\\'key\\': \\'bootstrap\\', \\'old_value\\': None, \\'new_value\\': \\'True\\'}, {\\'key\\': \\'ccp_alpha\\', \\'old_value\\': None, \\'new_value\\': \\'0.0\\'}, {\\'key\\': \\'criterion\\', \\'old_value\\': None, \\'new_value\\': \\'squared_error\\'}, {\\'key\\': \\'max_features\\', \\'old_value\\': None, \\'new_value\\': \\'1.0\\'}, {\\'key\\': \\'max_leaf_nodes\\', \\'old_value\\': None, \\'new_value\\': \\'None\\'}, {\\'key\\': \\'max_samples\\', \\'old_value\\': None, \\'new_value\\': \\'None\\'}, {\\'key\\': \\'min_impurity_decrease\\', \\'old_value\\': None, \\'new_value\\': \\'0.0\\'}, {\\'key\\': \\'min_weight_fraction_leaf\\', \\'old_value\\': None, \\'new_value\\': \\'0.0\\'}, {\\'key\\': \\'n_jobs\\', \\'old_value\\': None, \\'new_value\\': \\'None\\'}, {\\'key\\': \\'oob_score\\', \\'old_value\\': None, \\'new_value\\': \\'False\\'}, {\\'key\\': \\'verbose\\', \\'old_value\\': None, \\'new_value\\': \\'0\\'}, {\\'key\\': \\'warm_start\\', \\'old_value\\': None, \\'new_value\\': \\'False\\'}]\\' for run ID=\\'fde117e80b23400cae046175b2a30336\\'.\")]')]\n",
      "\n"
     ]
    },
    {
     "name": "stdout",
     "output_type": "stream",
     "text": [
      " 58%|█████▊    | 29/50 [06:04<05:22, 15.35s/trial, best loss: 6.629728007710133]"
     ]
    },
    {
     "name": "stderr",
     "output_type": "stream",
     "text": [
      "2022/05/29 00:02:34 WARNING mlflow.utils.autologging_utils: Encountered unexpected error during sklearn autologging: The following failures occurred while performing one or more logging operations: [MlflowException('Failed to perform one or more operations on the run with ID 7ee3fa704ab04274a2b20fb0563e4798. Failed operations: [RestException(\"INVALID_PARAMETER_VALUE: Changing param values is not allowed. Params were already logged=\\'[{\\'key\\': \\'bootstrap\\', \\'old_value\\': None, \\'new_value\\': \\'True\\'}, {\\'key\\': \\'ccp_alpha\\', \\'old_value\\': None, \\'new_value\\': \\'0.0\\'}, {\\'key\\': \\'criterion\\', \\'old_value\\': None, \\'new_value\\': \\'squared_error\\'}, {\\'key\\': \\'max_features\\', \\'old_value\\': None, \\'new_value\\': \\'1.0\\'}, {\\'key\\': \\'max_leaf_nodes\\', \\'old_value\\': None, \\'new_value\\': \\'None\\'}, {\\'key\\': \\'max_samples\\', \\'old_value\\': None, \\'new_value\\': \\'None\\'}, {\\'key\\': \\'min_impurity_decrease\\', \\'old_value\\': None, \\'new_value\\': \\'0.0\\'}, {\\'key\\': \\'min_weight_fraction_leaf\\', \\'old_value\\': None, \\'new_value\\': \\'0.0\\'}, {\\'key\\': \\'n_jobs\\', \\'old_value\\': None, \\'new_value\\': \\'None\\'}, {\\'key\\': \\'oob_score\\', \\'old_value\\': None, \\'new_value\\': \\'False\\'}, {\\'key\\': \\'verbose\\', \\'old_value\\': None, \\'new_value\\': \\'0\\'}, {\\'key\\': \\'warm_start\\', \\'old_value\\': None, \\'new_value\\': \\'False\\'}]\\' for run ID=\\'7ee3fa704ab04274a2b20fb0563e4798\\'.\")]')]\n",
      "\n"
     ]
    },
    {
     "name": "stdout",
     "output_type": "stream",
     "text": [
      " 60%|██████    | 30/50 [06:24<05:35, 16.80s/trial, best loss: 6.629728007710133]"
     ]
    },
    {
     "name": "stderr",
     "output_type": "stream",
     "text": [
      "2022/05/29 00:02:38 WARNING mlflow.utils.autologging_utils: Encountered unexpected error during sklearn autologging: The following failures occurred while performing one or more logging operations: [MlflowException('Failed to perform one or more operations on the run with ID 6df9934156ea4546a76a24e93fc84f74. Failed operations: [RestException(\"INVALID_PARAMETER_VALUE: Changing param values is not allowed. Params were already logged=\\'[{\\'key\\': \\'bootstrap\\', \\'old_value\\': None, \\'new_value\\': \\'True\\'}, {\\'key\\': \\'ccp_alpha\\', \\'old_value\\': None, \\'new_value\\': \\'0.0\\'}, {\\'key\\': \\'criterion\\', \\'old_value\\': None, \\'new_value\\': \\'squared_error\\'}, {\\'key\\': \\'max_features\\', \\'old_value\\': None, \\'new_value\\': \\'1.0\\'}, {\\'key\\': \\'max_leaf_nodes\\', \\'old_value\\': None, \\'new_value\\': \\'None\\'}, {\\'key\\': \\'max_samples\\', \\'old_value\\': None, \\'new_value\\': \\'None\\'}, {\\'key\\': \\'min_impurity_decrease\\', \\'old_value\\': None, \\'new_value\\': \\'0.0\\'}, {\\'key\\': \\'min_weight_fraction_leaf\\', \\'old_value\\': None, \\'new_value\\': \\'0.0\\'}, {\\'key\\': \\'n_jobs\\', \\'old_value\\': None, \\'new_value\\': \\'None\\'}, {\\'key\\': \\'oob_score\\', \\'old_value\\': None, \\'new_value\\': \\'False\\'}, {\\'key\\': \\'verbose\\', \\'old_value\\': None, \\'new_value\\': \\'0\\'}, {\\'key\\': \\'warm_start\\', \\'old_value\\': None, \\'new_value\\': \\'False\\'}]\\' for run ID=\\'6df9934156ea4546a76a24e93fc84f74\\'.\")]')]\n",
      "\n"
     ]
    },
    {
     "name": "stdout",
     "output_type": "stream",
     "text": [
      " 62%|██████▏   | 31/50 [06:28<04:03, 12.82s/trial, best loss: 6.629728007710133]"
     ]
    },
    {
     "name": "stderr",
     "output_type": "stream",
     "text": [
      "2022/05/29 00:02:52 WARNING mlflow.utils.autologging_utils: Encountered unexpected error during sklearn autologging: The following failures occurred while performing one or more logging operations: [MlflowException('Failed to perform one or more operations on the run with ID 5e7570aa9e6945a3b445812275ba2413. Failed operations: [RestException(\"INVALID_PARAMETER_VALUE: Changing param values is not allowed. Params were already logged=\\'[{\\'key\\': \\'bootstrap\\', \\'old_value\\': None, \\'new_value\\': \\'True\\'}, {\\'key\\': \\'ccp_alpha\\', \\'old_value\\': None, \\'new_value\\': \\'0.0\\'}, {\\'key\\': \\'criterion\\', \\'old_value\\': None, \\'new_value\\': \\'squared_error\\'}, {\\'key\\': \\'max_features\\', \\'old_value\\': None, \\'new_value\\': \\'1.0\\'}, {\\'key\\': \\'max_leaf_nodes\\', \\'old_value\\': None, \\'new_value\\': \\'None\\'}, {\\'key\\': \\'max_samples\\', \\'old_value\\': None, \\'new_value\\': \\'None\\'}, {\\'key\\': \\'min_impurity_decrease\\', \\'old_value\\': None, \\'new_value\\': \\'0.0\\'}, {\\'key\\': \\'min_weight_fraction_leaf\\', \\'old_value\\': None, \\'new_value\\': \\'0.0\\'}, {\\'key\\': \\'n_jobs\\', \\'old_value\\': None, \\'new_value\\': \\'None\\'}, {\\'key\\': \\'oob_score\\', \\'old_value\\': None, \\'new_value\\': \\'False\\'}, {\\'key\\': \\'verbose\\', \\'old_value\\': None, \\'new_value\\': \\'0\\'}, {\\'key\\': \\'warm_start\\', \\'old_value\\': None, \\'new_value\\': \\'False\\'}]\\' for run ID=\\'5e7570aa9e6945a3b445812275ba2413\\'.\")]')]\n",
      "\n"
     ]
    },
    {
     "name": "stdout",
     "output_type": "stream",
     "text": [
      " 64%|██████▍   | 32/50 [06:42<03:56, 13.15s/trial, best loss: 6.629728007710133]"
     ]
    },
    {
     "name": "stderr",
     "output_type": "stream",
     "text": [
      "2022/05/29 00:03:13 WARNING mlflow.utils.autologging_utils: Encountered unexpected error during sklearn autologging: The following failures occurred while performing one or more logging operations: [MlflowException('Failed to perform one or more operations on the run with ID ab218fcb58e54c99b2b1b4bd255d1c9d. Failed operations: [RestException(\"INVALID_PARAMETER_VALUE: Changing param values is not allowed. Params were already logged=\\'[{\\'key\\': \\'bootstrap\\', \\'old_value\\': None, \\'new_value\\': \\'True\\'}, {\\'key\\': \\'ccp_alpha\\', \\'old_value\\': None, \\'new_value\\': \\'0.0\\'}, {\\'key\\': \\'criterion\\', \\'old_value\\': None, \\'new_value\\': \\'squared_error\\'}, {\\'key\\': \\'max_features\\', \\'old_value\\': None, \\'new_value\\': \\'1.0\\'}, {\\'key\\': \\'max_leaf_nodes\\', \\'old_value\\': None, \\'new_value\\': \\'None\\'}, {\\'key\\': \\'max_samples\\', \\'old_value\\': None, \\'new_value\\': \\'None\\'}, {\\'key\\': \\'min_impurity_decrease\\', \\'old_value\\': None, \\'new_value\\': \\'0.0\\'}, {\\'key\\': \\'min_weight_fraction_leaf\\', \\'old_value\\': None, \\'new_value\\': \\'0.0\\'}, {\\'key\\': \\'n_jobs\\', \\'old_value\\': None, \\'new_value\\': \\'None\\'}, {\\'key\\': \\'oob_score\\', \\'old_value\\': None, \\'new_value\\': \\'False\\'}, {\\'key\\': \\'verbose\\', \\'old_value\\': None, \\'new_value\\': \\'0\\'}, {\\'key\\': \\'warm_start\\', \\'old_value\\': None, \\'new_value\\': \\'False\\'}]\\' for run ID=\\'ab218fcb58e54c99b2b1b4bd255d1c9d\\'.\")]')]\n",
      "\n"
     ]
    },
    {
     "name": "stdout",
     "output_type": "stream",
     "text": [
      " 66%|██████▌   | 33/50 [07:03<04:27, 15.71s/trial, best loss: 6.629728007710133]"
     ]
    },
    {
     "name": "stderr",
     "output_type": "stream",
     "text": [
      "2022/05/29 00:03:32 WARNING mlflow.utils.autologging_utils: Encountered unexpected error during sklearn autologging: The following failures occurred while performing one or more logging operations: [MlflowException('Failed to perform one or more operations on the run with ID d0dc23b37c35459fbad7b2039ad5ea11. Failed operations: [RestException(\"INVALID_PARAMETER_VALUE: Changing param values is not allowed. Params were already logged=\\'[{\\'key\\': \\'bootstrap\\', \\'old_value\\': None, \\'new_value\\': \\'True\\'}, {\\'key\\': \\'ccp_alpha\\', \\'old_value\\': None, \\'new_value\\': \\'0.0\\'}, {\\'key\\': \\'criterion\\', \\'old_value\\': None, \\'new_value\\': \\'squared_error\\'}, {\\'key\\': \\'max_features\\', \\'old_value\\': None, \\'new_value\\': \\'1.0\\'}, {\\'key\\': \\'max_leaf_nodes\\', \\'old_value\\': None, \\'new_value\\': \\'None\\'}, {\\'key\\': \\'max_samples\\', \\'old_value\\': None, \\'new_value\\': \\'None\\'}, {\\'key\\': \\'min_impurity_decrease\\', \\'old_value\\': None, \\'new_value\\': \\'0.0\\'}, {\\'key\\': \\'min_weight_fraction_leaf\\', \\'old_value\\': None, \\'new_value\\': \\'0.0\\'}, {\\'key\\': \\'n_jobs\\', \\'old_value\\': None, \\'new_value\\': \\'None\\'}, {\\'key\\': \\'oob_score\\', \\'old_value\\': None, \\'new_value\\': \\'False\\'}, {\\'key\\': \\'verbose\\', \\'old_value\\': None, \\'new_value\\': \\'0\\'}, {\\'key\\': \\'warm_start\\', \\'old_value\\': None, \\'new_value\\': \\'False\\'}]\\' for run ID=\\'d0dc23b37c35459fbad7b2039ad5ea11\\'.\")]')]\n",
      "\n"
     ]
    },
    {
     "name": "stdout",
     "output_type": "stream",
     "text": [
      " 68%|██████▊   | 34/50 [07:22<04:23, 16.49s/trial, best loss: 6.6284257482044735]"
     ]
    },
    {
     "name": "stderr",
     "output_type": "stream",
     "text": [
      "2022/05/29 00:03:42 WARNING mlflow.utils.autologging_utils: Encountered unexpected error during sklearn autologging: The following failures occurred while performing one or more logging operations: [MlflowException('Failed to perform one or more operations on the run with ID ff15eed015a34409b561b59eac680cde. Failed operations: [RestException(\"INVALID_PARAMETER_VALUE: Changing param values is not allowed. Params were already logged=\\'[{\\'key\\': \\'bootstrap\\', \\'old_value\\': None, \\'new_value\\': \\'True\\'}, {\\'key\\': \\'ccp_alpha\\', \\'old_value\\': None, \\'new_value\\': \\'0.0\\'}, {\\'key\\': \\'criterion\\', \\'old_value\\': None, \\'new_value\\': \\'squared_error\\'}, {\\'key\\': \\'max_features\\', \\'old_value\\': None, \\'new_value\\': \\'1.0\\'}, {\\'key\\': \\'max_leaf_nodes\\', \\'old_value\\': None, \\'new_value\\': \\'None\\'}, {\\'key\\': \\'max_samples\\', \\'old_value\\': None, \\'new_value\\': \\'None\\'}, {\\'key\\': \\'min_impurity_decrease\\', \\'old_value\\': None, \\'new_value\\': \\'0.0\\'}, {\\'key\\': \\'min_weight_fraction_leaf\\', \\'old_value\\': None, \\'new_value\\': \\'0.0\\'}, {\\'key\\': \\'n_jobs\\', \\'old_value\\': None, \\'new_value\\': \\'None\\'}, {\\'key\\': \\'oob_score\\', \\'old_value\\': None, \\'new_value\\': \\'False\\'}, {\\'key\\': \\'verbose\\', \\'old_value\\': None, \\'new_value\\': \\'0\\'}, {\\'key\\': \\'warm_start\\', \\'old_value\\': None, \\'new_value\\': \\'False\\'}]\\' for run ID=\\'ff15eed015a34409b561b59eac680cde\\'.\")]')]\n",
      "\n"
     ]
    },
    {
     "name": "stdout",
     "output_type": "stream",
     "text": [
      " 70%|███████   | 35/50 [07:32<03:39, 14.65s/trial, best loss: 6.6284257482044735]"
     ]
    },
    {
     "name": "stderr",
     "output_type": "stream",
     "text": [
      "2022/05/29 00:03:53 WARNING mlflow.utils.autologging_utils: Encountered unexpected error during sklearn autologging: The following failures occurred while performing one or more logging operations: [MlflowException('Failed to perform one or more operations on the run with ID 5f1748b0a5b541faa0b710a7d2ed0a65. Failed operations: [RestException(\"INVALID_PARAMETER_VALUE: Changing param values is not allowed. Params were already logged=\\'[{\\'key\\': \\'bootstrap\\', \\'old_value\\': None, \\'new_value\\': \\'True\\'}, {\\'key\\': \\'ccp_alpha\\', \\'old_value\\': None, \\'new_value\\': \\'0.0\\'}, {\\'key\\': \\'criterion\\', \\'old_value\\': None, \\'new_value\\': \\'squared_error\\'}, {\\'key\\': \\'max_features\\', \\'old_value\\': None, \\'new_value\\': \\'1.0\\'}, {\\'key\\': \\'max_leaf_nodes\\', \\'old_value\\': None, \\'new_value\\': \\'None\\'}, {\\'key\\': \\'max_samples\\', \\'old_value\\': None, \\'new_value\\': \\'None\\'}, {\\'key\\': \\'min_impurity_decrease\\', \\'old_value\\': None, \\'new_value\\': \\'0.0\\'}, {\\'key\\': \\'min_weight_fraction_leaf\\', \\'old_value\\': None, \\'new_value\\': \\'0.0\\'}, {\\'key\\': \\'n_jobs\\', \\'old_value\\': None, \\'new_value\\': \\'None\\'}, {\\'key\\': \\'oob_score\\', \\'old_value\\': None, \\'new_value\\': \\'False\\'}, {\\'key\\': \\'verbose\\', \\'old_value\\': None, \\'new_value\\': \\'0\\'}, {\\'key\\': \\'warm_start\\', \\'old_value\\': None, \\'new_value\\': \\'False\\'}]\\' for run ID=\\'5f1748b0a5b541faa0b710a7d2ed0a65\\'.\")]')]\n",
      "\n"
     ]
    },
    {
     "name": "stdout",
     "output_type": "stream",
     "text": [
      " 72%|███████▏  | 36/50 [07:43<03:11, 13.68s/trial, best loss: 6.6284257482044735]"
     ]
    },
    {
     "name": "stderr",
     "output_type": "stream",
     "text": [
      "2022/05/29 00:03:56 WARNING mlflow.utils.autologging_utils: Encountered unexpected error during sklearn autologging: The following failures occurred while performing one or more logging operations: [MlflowException('Failed to perform one or more operations on the run with ID 4714fcd2d0944b3aa653fd2e619ca532. Failed operations: [RestException(\"INVALID_PARAMETER_VALUE: Changing param values is not allowed. Params were already logged=\\'[{\\'key\\': \\'bootstrap\\', \\'old_value\\': None, \\'new_value\\': \\'True\\'}, {\\'key\\': \\'ccp_alpha\\', \\'old_value\\': None, \\'new_value\\': \\'0.0\\'}, {\\'key\\': \\'criterion\\', \\'old_value\\': None, \\'new_value\\': \\'squared_error\\'}, {\\'key\\': \\'max_features\\', \\'old_value\\': None, \\'new_value\\': \\'1.0\\'}, {\\'key\\': \\'max_leaf_nodes\\', \\'old_value\\': None, \\'new_value\\': \\'None\\'}, {\\'key\\': \\'max_samples\\', \\'old_value\\': None, \\'new_value\\': \\'None\\'}, {\\'key\\': \\'min_impurity_decrease\\', \\'old_value\\': None, \\'new_value\\': \\'0.0\\'}, {\\'key\\': \\'min_weight_fraction_leaf\\', \\'old_value\\': None, \\'new_value\\': \\'0.0\\'}, {\\'key\\': \\'n_jobs\\', \\'old_value\\': None, \\'new_value\\': \\'None\\'}, {\\'key\\': \\'oob_score\\', \\'old_value\\': None, \\'new_value\\': \\'False\\'}, {\\'key\\': \\'verbose\\', \\'old_value\\': None, \\'new_value\\': \\'0\\'}, {\\'key\\': \\'warm_start\\', \\'old_value\\': None, \\'new_value\\': \\'False\\'}]\\' for run ID=\\'4714fcd2d0944b3aa653fd2e619ca532\\'.\")]')]\n",
      "\n"
     ]
    },
    {
     "name": "stdout",
     "output_type": "stream",
     "text": [
      " 74%|███████▍  | 37/50 [07:46<02:15, 10.43s/trial, best loss: 6.6284257482044735]"
     ]
    },
    {
     "name": "stderr",
     "output_type": "stream",
     "text": [
      "2022/05/29 00:04:10 WARNING mlflow.utils.autologging_utils: Encountered unexpected error during sklearn autologging: The following failures occurred while performing one or more logging operations: [MlflowException('Failed to perform one or more operations on the run with ID 9a28358af235472fbec16695319a2822. Failed operations: [RestException(\"INVALID_PARAMETER_VALUE: Changing param values is not allowed. Params were already logged=\\'[{\\'key\\': \\'bootstrap\\', \\'old_value\\': None, \\'new_value\\': \\'True\\'}, {\\'key\\': \\'ccp_alpha\\', \\'old_value\\': None, \\'new_value\\': \\'0.0\\'}, {\\'key\\': \\'criterion\\', \\'old_value\\': None, \\'new_value\\': \\'squared_error\\'}, {\\'key\\': \\'max_features\\', \\'old_value\\': None, \\'new_value\\': \\'1.0\\'}, {\\'key\\': \\'max_leaf_nodes\\', \\'old_value\\': None, \\'new_value\\': \\'None\\'}, {\\'key\\': \\'max_samples\\', \\'old_value\\': None, \\'new_value\\': \\'None\\'}, {\\'key\\': \\'min_impurity_decrease\\', \\'old_value\\': None, \\'new_value\\': \\'0.0\\'}, {\\'key\\': \\'min_weight_fraction_leaf\\', \\'old_value\\': None, \\'new_value\\': \\'0.0\\'}, {\\'key\\': \\'n_jobs\\', \\'old_value\\': None, \\'new_value\\': \\'None\\'}, {\\'key\\': \\'oob_score\\', \\'old_value\\': None, \\'new_value\\': \\'False\\'}, {\\'key\\': \\'verbose\\', \\'old_value\\': None, \\'new_value\\': \\'0\\'}, {\\'key\\': \\'warm_start\\', \\'old_value\\': None, \\'new_value\\': \\'False\\'}]\\' for run ID=\\'9a28358af235472fbec16695319a2822\\'.\")]')]\n",
      "\n"
     ]
    },
    {
     "name": "stdout",
     "output_type": "stream",
     "text": [
      " 76%|███████▌  | 38/50 [08:00<02:17, 11.44s/trial, best loss: 6.6284257482044735]"
     ]
    },
    {
     "name": "stderr",
     "output_type": "stream",
     "text": [
      "2022/05/29 00:04:28 WARNING mlflow.utils.autologging_utils: Encountered unexpected error during sklearn autologging: The following failures occurred while performing one or more logging operations: [MlflowException('Failed to perform one or more operations on the run with ID b9902988fa604071a61a4475acfb3e09. Failed operations: [RestException(\"INVALID_PARAMETER_VALUE: Changing param values is not allowed. Params were already logged=\\'[{\\'key\\': \\'bootstrap\\', \\'old_value\\': None, \\'new_value\\': \\'True\\'}, {\\'key\\': \\'ccp_alpha\\', \\'old_value\\': None, \\'new_value\\': \\'0.0\\'}, {\\'key\\': \\'criterion\\', \\'old_value\\': None, \\'new_value\\': \\'squared_error\\'}, {\\'key\\': \\'max_features\\', \\'old_value\\': None, \\'new_value\\': \\'1.0\\'}, {\\'key\\': \\'max_leaf_nodes\\', \\'old_value\\': None, \\'new_value\\': \\'None\\'}, {\\'key\\': \\'max_samples\\', \\'old_value\\': None, \\'new_value\\': \\'None\\'}, {\\'key\\': \\'min_impurity_decrease\\', \\'old_value\\': None, \\'new_value\\': \\'0.0\\'}, {\\'key\\': \\'min_weight_fraction_leaf\\', \\'old_value\\': None, \\'new_value\\': \\'0.0\\'}, {\\'key\\': \\'n_jobs\\', \\'old_value\\': None, \\'new_value\\': \\'None\\'}, {\\'key\\': \\'oob_score\\', \\'old_value\\': None, \\'new_value\\': \\'False\\'}, {\\'key\\': \\'verbose\\', \\'old_value\\': None, \\'new_value\\': \\'0\\'}, {\\'key\\': \\'warm_start\\', \\'old_value\\': None, \\'new_value\\': \\'False\\'}]\\' for run ID=\\'b9902988fa604071a61a4475acfb3e09\\'.\")]')]\n",
      "\n"
     ]
    },
    {
     "name": "stdout",
     "output_type": "stream",
     "text": [
      " 78%|███████▊  | 39/50 [08:18<02:26, 13.31s/trial, best loss: 6.6284257482044735]"
     ]
    },
    {
     "name": "stderr",
     "output_type": "stream",
     "text": [
      "2022/05/29 00:04:45 WARNING mlflow.utils.autologging_utils: Encountered unexpected error during sklearn autologging: The following failures occurred while performing one or more logging operations: [MlflowException('Failed to perform one or more operations on the run with ID 8db27036bda143e1b140d1e7a9d00a6a. Failed operations: [RestException(\"INVALID_PARAMETER_VALUE: Changing param values is not allowed. Params were already logged=\\'[{\\'key\\': \\'bootstrap\\', \\'old_value\\': None, \\'new_value\\': \\'True\\'}, {\\'key\\': \\'ccp_alpha\\', \\'old_value\\': None, \\'new_value\\': \\'0.0\\'}, {\\'key\\': \\'criterion\\', \\'old_value\\': None, \\'new_value\\': \\'squared_error\\'}, {\\'key\\': \\'max_features\\', \\'old_value\\': None, \\'new_value\\': \\'1.0\\'}, {\\'key\\': \\'max_leaf_nodes\\', \\'old_value\\': None, \\'new_value\\': \\'None\\'}, {\\'key\\': \\'max_samples\\', \\'old_value\\': None, \\'new_value\\': \\'None\\'}, {\\'key\\': \\'min_impurity_decrease\\', \\'old_value\\': None, \\'new_value\\': \\'0.0\\'}, {\\'key\\': \\'min_weight_fraction_leaf\\', \\'old_value\\': None, \\'new_value\\': \\'0.0\\'}, {\\'key\\': \\'n_jobs\\', \\'old_value\\': None, \\'new_value\\': \\'None\\'}, {\\'key\\': \\'oob_score\\', \\'old_value\\': None, \\'new_value\\': \\'False\\'}, {\\'key\\': \\'verbose\\', \\'old_value\\': None, \\'new_value\\': \\'0\\'}, {\\'key\\': \\'warm_start\\', \\'old_value\\': None, \\'new_value\\': \\'False\\'}]\\' for run ID=\\'8db27036bda143e1b140d1e7a9d00a6a\\'.\")]')]\n",
      "\n"
     ]
    },
    {
     "name": "stdout",
     "output_type": "stream",
     "text": [
      " 80%|████████  | 40/50 [08:35<02:26, 14.63s/trial, best loss: 6.6284257482044735]"
     ]
    },
    {
     "name": "stderr",
     "output_type": "stream",
     "text": [
      "2022/05/29 00:04:51 WARNING mlflow.utils.autologging_utils: Encountered unexpected error during sklearn autologging: The following failures occurred while performing one or more logging operations: [MlflowException('Failed to perform one or more operations on the run with ID c5f9564d922f4ff6928965cb551602ce. Failed operations: [RestException(\"INVALID_PARAMETER_VALUE: Changing param values is not allowed. Params were already logged=\\'[{\\'key\\': \\'bootstrap\\', \\'old_value\\': None, \\'new_value\\': \\'True\\'}, {\\'key\\': \\'ccp_alpha\\', \\'old_value\\': None, \\'new_value\\': \\'0.0\\'}, {\\'key\\': \\'criterion\\', \\'old_value\\': None, \\'new_value\\': \\'squared_error\\'}, {\\'key\\': \\'max_features\\', \\'old_value\\': None, \\'new_value\\': \\'1.0\\'}, {\\'key\\': \\'max_leaf_nodes\\', \\'old_value\\': None, \\'new_value\\': \\'None\\'}, {\\'key\\': \\'max_samples\\', \\'old_value\\': None, \\'new_value\\': \\'None\\'}, {\\'key\\': \\'min_impurity_decrease\\', \\'old_value\\': None, \\'new_value\\': \\'0.0\\'}, {\\'key\\': \\'min_weight_fraction_leaf\\', \\'old_value\\': None, \\'new_value\\': \\'0.0\\'}, {\\'key\\': \\'n_jobs\\', \\'old_value\\': None, \\'new_value\\': \\'None\\'}, {\\'key\\': \\'oob_score\\', \\'old_value\\': None, \\'new_value\\': \\'False\\'}, {\\'key\\': \\'verbose\\', \\'old_value\\': None, \\'new_value\\': \\'0\\'}, {\\'key\\': \\'warm_start\\', \\'old_value\\': None, \\'new_value\\': \\'False\\'}]\\' for run ID=\\'c5f9564d922f4ff6928965cb551602ce\\'.\")]')]\n",
      "\n"
     ]
    },
    {
     "name": "stdout",
     "output_type": "stream",
     "text": [
      " 82%|████████▏ | 41/50 [08:41<01:47, 11.93s/trial, best loss: 6.6284257482044735]"
     ]
    },
    {
     "name": "stderr",
     "output_type": "stream",
     "text": [
      "2022/05/29 00:04:59 WARNING mlflow.utils.autologging_utils: Encountered unexpected error during sklearn autologging: The following failures occurred while performing one or more logging operations: [MlflowException('Failed to perform one or more operations on the run with ID 4a99bfe385d44ebc8e7247f474232da8. Failed operations: [RestException(\"INVALID_PARAMETER_VALUE: Changing param values is not allowed. Params were already logged=\\'[{\\'key\\': \\'bootstrap\\', \\'old_value\\': None, \\'new_value\\': \\'True\\'}, {\\'key\\': \\'ccp_alpha\\', \\'old_value\\': None, \\'new_value\\': \\'0.0\\'}, {\\'key\\': \\'criterion\\', \\'old_value\\': None, \\'new_value\\': \\'squared_error\\'}, {\\'key\\': \\'max_features\\', \\'old_value\\': None, \\'new_value\\': \\'1.0\\'}, {\\'key\\': \\'max_leaf_nodes\\', \\'old_value\\': None, \\'new_value\\': \\'None\\'}, {\\'key\\': \\'max_samples\\', \\'old_value\\': None, \\'new_value\\': \\'None\\'}, {\\'key\\': \\'min_impurity_decrease\\', \\'old_value\\': None, \\'new_value\\': \\'0.0\\'}, {\\'key\\': \\'min_weight_fraction_leaf\\', \\'old_value\\': None, \\'new_value\\': \\'0.0\\'}, {\\'key\\': \\'n_jobs\\', \\'old_value\\': None, \\'new_value\\': \\'None\\'}, {\\'key\\': \\'oob_score\\', \\'old_value\\': None, \\'new_value\\': \\'False\\'}, {\\'key\\': \\'verbose\\', \\'old_value\\': None, \\'new_value\\': \\'0\\'}, {\\'key\\': \\'warm_start\\', \\'old_value\\': None, \\'new_value\\': \\'False\\'}]\\' for run ID=\\'4a99bfe385d44ebc8e7247f474232da8\\'.\")]')]\n",
      "\n"
     ]
    },
    {
     "name": "stdout",
     "output_type": "stream",
     "text": [
      " 84%|████████▍ | 42/50 [08:49<01:26, 10.86s/trial, best loss: 6.6284257482044735]"
     ]
    },
    {
     "name": "stderr",
     "output_type": "stream",
     "text": [
      "2022/05/29 00:05:11 WARNING mlflow.utils.autologging_utils: Encountered unexpected error during sklearn autologging: The following failures occurred while performing one or more logging operations: [MlflowException('Failed to perform one or more operations on the run with ID a463e905723548189f8581f386ea44a2. Failed operations: [RestException(\"INVALID_PARAMETER_VALUE: Changing param values is not allowed. Params were already logged=\\'[{\\'key\\': \\'bootstrap\\', \\'old_value\\': None, \\'new_value\\': \\'True\\'}, {\\'key\\': \\'ccp_alpha\\', \\'old_value\\': None, \\'new_value\\': \\'0.0\\'}, {\\'key\\': \\'criterion\\', \\'old_value\\': None, \\'new_value\\': \\'squared_error\\'}, {\\'key\\': \\'max_features\\', \\'old_value\\': None, \\'new_value\\': \\'1.0\\'}, {\\'key\\': \\'max_leaf_nodes\\', \\'old_value\\': None, \\'new_value\\': \\'None\\'}, {\\'key\\': \\'max_samples\\', \\'old_value\\': None, \\'new_value\\': \\'None\\'}, {\\'key\\': \\'min_impurity_decrease\\', \\'old_value\\': None, \\'new_value\\': \\'0.0\\'}, {\\'key\\': \\'min_weight_fraction_leaf\\', \\'old_value\\': None, \\'new_value\\': \\'0.0\\'}, {\\'key\\': \\'n_jobs\\', \\'old_value\\': None, \\'new_value\\': \\'None\\'}, {\\'key\\': \\'oob_score\\', \\'old_value\\': None, \\'new_value\\': \\'False\\'}, {\\'key\\': \\'verbose\\', \\'old_value\\': None, \\'new_value\\': \\'0\\'}, {\\'key\\': \\'warm_start\\', \\'old_value\\': None, \\'new_value\\': \\'False\\'}]\\' for run ID=\\'a463e905723548189f8581f386ea44a2\\'.\")]')]\n",
      "\n"
     ]
    },
    {
     "name": "stdout",
     "output_type": "stream",
     "text": [
      " 86%|████████▌ | 43/50 [09:01<01:18, 11.18s/trial, best loss: 6.6284257482044735]"
     ]
    },
    {
     "name": "stderr",
     "output_type": "stream",
     "text": [
      "2022/05/29 00:05:30 WARNING mlflow.utils.autologging_utils: Encountered unexpected error during sklearn autologging: The following failures occurred while performing one or more logging operations: [MlflowException('Failed to perform one or more operations on the run with ID 1db1c390ae4d4769a5f843f00d1f0ac5. Failed operations: [RestException(\"INVALID_PARAMETER_VALUE: Changing param values is not allowed. Params were already logged=\\'[{\\'key\\': \\'bootstrap\\', \\'old_value\\': None, \\'new_value\\': \\'True\\'}, {\\'key\\': \\'ccp_alpha\\', \\'old_value\\': None, \\'new_value\\': \\'0.0\\'}, {\\'key\\': \\'criterion\\', \\'old_value\\': None, \\'new_value\\': \\'squared_error\\'}, {\\'key\\': \\'max_features\\', \\'old_value\\': None, \\'new_value\\': \\'1.0\\'}, {\\'key\\': \\'max_leaf_nodes\\', \\'old_value\\': None, \\'new_value\\': \\'None\\'}, {\\'key\\': \\'max_samples\\', \\'old_value\\': None, \\'new_value\\': \\'None\\'}, {\\'key\\': \\'min_impurity_decrease\\', \\'old_value\\': None, \\'new_value\\': \\'0.0\\'}, {\\'key\\': \\'min_weight_fraction_leaf\\', \\'old_value\\': None, \\'new_value\\': \\'0.0\\'}, {\\'key\\': \\'n_jobs\\', \\'old_value\\': None, \\'new_value\\': \\'None\\'}, {\\'key\\': \\'oob_score\\', \\'old_value\\': None, \\'new_value\\': \\'False\\'}, {\\'key\\': \\'verbose\\', \\'old_value\\': None, \\'new_value\\': \\'0\\'}, {\\'key\\': \\'warm_start\\', \\'old_value\\': None, \\'new_value\\': \\'False\\'}]\\' for run ID=\\'1db1c390ae4d4769a5f843f00d1f0ac5\\'.\")]')]\n",
      "\n"
     ]
    },
    {
     "name": "stdout",
     "output_type": "stream",
     "text": [
      " 88%|████████▊ | 44/50 [09:20<01:21, 13.55s/trial, best loss: 6.6284257482044735]"
     ]
    },
    {
     "name": "stderr",
     "output_type": "stream",
     "text": [
      "2022/05/29 00:05:45 WARNING mlflow.utils.autologging_utils: Encountered unexpected error during sklearn autologging: The following failures occurred while performing one or more logging operations: [MlflowException('Failed to perform one or more operations on the run with ID b19b2e4bb3a64104a2541167ec838434. Failed operations: [RestException(\"INVALID_PARAMETER_VALUE: Changing param values is not allowed. Params were already logged=\\'[{\\'key\\': \\'bootstrap\\', \\'old_value\\': None, \\'new_value\\': \\'True\\'}, {\\'key\\': \\'ccp_alpha\\', \\'old_value\\': None, \\'new_value\\': \\'0.0\\'}, {\\'key\\': \\'criterion\\', \\'old_value\\': None, \\'new_value\\': \\'squared_error\\'}, {\\'key\\': \\'max_features\\', \\'old_value\\': None, \\'new_value\\': \\'1.0\\'}, {\\'key\\': \\'max_leaf_nodes\\', \\'old_value\\': None, \\'new_value\\': \\'None\\'}, {\\'key\\': \\'max_samples\\', \\'old_value\\': None, \\'new_value\\': \\'None\\'}, {\\'key\\': \\'min_impurity_decrease\\', \\'old_value\\': None, \\'new_value\\': \\'0.0\\'}, {\\'key\\': \\'min_weight_fraction_leaf\\', \\'old_value\\': None, \\'new_value\\': \\'0.0\\'}, {\\'key\\': \\'n_jobs\\', \\'old_value\\': None, \\'new_value\\': \\'None\\'}, {\\'key\\': \\'oob_score\\', \\'old_value\\': None, \\'new_value\\': \\'False\\'}, {\\'key\\': \\'verbose\\', \\'old_value\\': None, \\'new_value\\': \\'0\\'}, {\\'key\\': \\'warm_start\\', \\'old_value\\': None, \\'new_value\\': \\'False\\'}]\\' for run ID=\\'b19b2e4bb3a64104a2541167ec838434\\'.\")]')]\n",
      "\n"
     ]
    },
    {
     "name": "stdout",
     "output_type": "stream",
     "text": [
      " 90%|█████████ | 45/50 [09:35<01:09, 13.84s/trial, best loss: 6.6284257482044735]"
     ]
    },
    {
     "name": "stderr",
     "output_type": "stream",
     "text": [
      "2022/05/29 00:05:52 WARNING mlflow.utils.autologging_utils: Encountered unexpected error during sklearn autologging: The following failures occurred while performing one or more logging operations: [MlflowException('Failed to perform one or more operations on the run with ID 9af50b1eac0e4ae290e5e9ba299d90be. Failed operations: [RestException(\"INVALID_PARAMETER_VALUE: Changing param values is not allowed. Params were already logged=\\'[{\\'key\\': \\'bootstrap\\', \\'old_value\\': None, \\'new_value\\': \\'True\\'}, {\\'key\\': \\'ccp_alpha\\', \\'old_value\\': None, \\'new_value\\': \\'0.0\\'}, {\\'key\\': \\'criterion\\', \\'old_value\\': None, \\'new_value\\': \\'squared_error\\'}, {\\'key\\': \\'max_features\\', \\'old_value\\': None, \\'new_value\\': \\'1.0\\'}, {\\'key\\': \\'max_leaf_nodes\\', \\'old_value\\': None, \\'new_value\\': \\'None\\'}, {\\'key\\': \\'max_samples\\', \\'old_value\\': None, \\'new_value\\': \\'None\\'}, {\\'key\\': \\'min_impurity_decrease\\', \\'old_value\\': None, \\'new_value\\': \\'0.0\\'}, {\\'key\\': \\'min_weight_fraction_leaf\\', \\'old_value\\': None, \\'new_value\\': \\'0.0\\'}, {\\'key\\': \\'n_jobs\\', \\'old_value\\': None, \\'new_value\\': \\'None\\'}, {\\'key\\': \\'oob_score\\', \\'old_value\\': None, \\'new_value\\': \\'False\\'}, {\\'key\\': \\'verbose\\', \\'old_value\\': None, \\'new_value\\': \\'0\\'}, {\\'key\\': \\'warm_start\\', \\'old_value\\': None, \\'new_value\\': \\'False\\'}]\\' for run ID=\\'9af50b1eac0e4ae290e5e9ba299d90be\\'.\")]')]\n",
      "\n"
     ]
    },
    {
     "name": "stdout",
     "output_type": "stream",
     "text": [
      " 92%|█████████▏| 46/50 [09:42<00:47, 11.94s/trial, best loss: 6.6284257482044735]"
     ]
    },
    {
     "name": "stderr",
     "output_type": "stream",
     "text": [
      "2022/05/29 00:06:14 WARNING mlflow.utils.autologging_utils: Encountered unexpected error during sklearn autologging: The following failures occurred while performing one or more logging operations: [MlflowException('Failed to perform one or more operations on the run with ID 889c2695a34e4360b93d10e95e41e49e. Failed operations: [RestException(\"INVALID_PARAMETER_VALUE: Changing param values is not allowed. Params were already logged=\\'[{\\'key\\': \\'bootstrap\\', \\'old_value\\': None, \\'new_value\\': \\'True\\'}, {\\'key\\': \\'ccp_alpha\\', \\'old_value\\': None, \\'new_value\\': \\'0.0\\'}, {\\'key\\': \\'criterion\\', \\'old_value\\': None, \\'new_value\\': \\'squared_error\\'}, {\\'key\\': \\'max_features\\', \\'old_value\\': None, \\'new_value\\': \\'1.0\\'}, {\\'key\\': \\'max_leaf_nodes\\', \\'old_value\\': None, \\'new_value\\': \\'None\\'}, {\\'key\\': \\'max_samples\\', \\'old_value\\': None, \\'new_value\\': \\'None\\'}, {\\'key\\': \\'min_impurity_decrease\\', \\'old_value\\': None, \\'new_value\\': \\'0.0\\'}, {\\'key\\': \\'min_weight_fraction_leaf\\', \\'old_value\\': None, \\'new_value\\': \\'0.0\\'}, {\\'key\\': \\'n_jobs\\', \\'old_value\\': None, \\'new_value\\': \\'None\\'}, {\\'key\\': \\'oob_score\\', \\'old_value\\': None, \\'new_value\\': \\'False\\'}, {\\'key\\': \\'verbose\\', \\'old_value\\': None, \\'new_value\\': \\'0\\'}, {\\'key\\': \\'warm_start\\', \\'old_value\\': None, \\'new_value\\': \\'False\\'}]\\' for run ID=\\'889c2695a34e4360b93d10e95e41e49e\\'.\")]')]\n",
      "\n"
     ]
    },
    {
     "name": "stdout",
     "output_type": "stream",
     "text": [
      " 94%|█████████▍| 47/50 [10:04<00:44, 14.83s/trial, best loss: 6.6284257482044735]"
     ]
    },
    {
     "name": "stderr",
     "output_type": "stream",
     "text": [
      "2022/05/29 00:06:26 WARNING mlflow.utils.autologging_utils: Encountered unexpected error during sklearn autologging: The following failures occurred while performing one or more logging operations: [MlflowException('Failed to perform one or more operations on the run with ID 142f865c91054487a35d3d7d67cfef62. Failed operations: [RestException(\"INVALID_PARAMETER_VALUE: Changing param values is not allowed. Params were already logged=\\'[{\\'key\\': \\'bootstrap\\', \\'old_value\\': None, \\'new_value\\': \\'True\\'}, {\\'key\\': \\'ccp_alpha\\', \\'old_value\\': None, \\'new_value\\': \\'0.0\\'}, {\\'key\\': \\'criterion\\', \\'old_value\\': None, \\'new_value\\': \\'squared_error\\'}, {\\'key\\': \\'max_features\\', \\'old_value\\': None, \\'new_value\\': \\'1.0\\'}, {\\'key\\': \\'max_leaf_nodes\\', \\'old_value\\': None, \\'new_value\\': \\'None\\'}, {\\'key\\': \\'max_samples\\', \\'old_value\\': None, \\'new_value\\': \\'None\\'}, {\\'key\\': \\'min_impurity_decrease\\', \\'old_value\\': None, \\'new_value\\': \\'0.0\\'}, {\\'key\\': \\'min_weight_fraction_leaf\\', \\'old_value\\': None, \\'new_value\\': \\'0.0\\'}, {\\'key\\': \\'n_jobs\\', \\'old_value\\': None, \\'new_value\\': \\'None\\'}, {\\'key\\': \\'oob_score\\', \\'old_value\\': None, \\'new_value\\': \\'False\\'}, {\\'key\\': \\'verbose\\', \\'old_value\\': None, \\'new_value\\': \\'0\\'}, {\\'key\\': \\'warm_start\\', \\'old_value\\': None, \\'new_value\\': \\'False\\'}]\\' for run ID=\\'142f865c91054487a35d3d7d67cfef62\\'.\")]')]\n",
      "\n"
     ]
    },
    {
     "name": "stdout",
     "output_type": "stream",
     "text": [
      " 96%|█████████▌| 48/50 [10:16<00:27, 13.97s/trial, best loss: 6.6284257482044735]"
     ]
    },
    {
     "name": "stderr",
     "output_type": "stream",
     "text": [
      "2022/05/29 00:06:45 WARNING mlflow.utils.autologging_utils: Encountered unexpected error during sklearn autologging: The following failures occurred while performing one or more logging operations: [MlflowException('Failed to perform one or more operations on the run with ID 4ffc10d254754c0da1aaa42f175f11b9. Failed operations: [RestException(\"INVALID_PARAMETER_VALUE: Changing param values is not allowed. Params were already logged=\\'[{\\'key\\': \\'bootstrap\\', \\'old_value\\': None, \\'new_value\\': \\'True\\'}, {\\'key\\': \\'ccp_alpha\\', \\'old_value\\': None, \\'new_value\\': \\'0.0\\'}, {\\'key\\': \\'criterion\\', \\'old_value\\': None, \\'new_value\\': \\'squared_error\\'}, {\\'key\\': \\'max_features\\', \\'old_value\\': None, \\'new_value\\': \\'1.0\\'}, {\\'key\\': \\'max_leaf_nodes\\', \\'old_value\\': None, \\'new_value\\': \\'None\\'}, {\\'key\\': \\'max_samples\\', \\'old_value\\': None, \\'new_value\\': \\'None\\'}, {\\'key\\': \\'min_impurity_decrease\\', \\'old_value\\': None, \\'new_value\\': \\'0.0\\'}, {\\'key\\': \\'min_weight_fraction_leaf\\', \\'old_value\\': None, \\'new_value\\': \\'0.0\\'}, {\\'key\\': \\'n_jobs\\', \\'old_value\\': None, \\'new_value\\': \\'None\\'}, {\\'key\\': \\'oob_score\\', \\'old_value\\': None, \\'new_value\\': \\'False\\'}, {\\'key\\': \\'verbose\\', \\'old_value\\': None, \\'new_value\\': \\'0\\'}, {\\'key\\': \\'warm_start\\', \\'old_value\\': None, \\'new_value\\': \\'False\\'}]\\' for run ID=\\'4ffc10d254754c0da1aaa42f175f11b9\\'.\")]')]\n",
      "\n"
     ]
    },
    {
     "name": "stdout",
     "output_type": "stream",
     "text": [
      " 98%|█████████▊| 49/50 [10:35<00:15, 15.60s/trial, best loss: 6.6284257482044735]"
     ]
    },
    {
     "name": "stderr",
     "output_type": "stream",
     "text": [
      "2022/05/29 00:07:08 WARNING mlflow.utils.autologging_utils: Encountered unexpected error during sklearn autologging: The following failures occurred while performing one or more logging operations: [MlflowException('Failed to perform one or more operations on the run with ID 285c615d4f6048ef952e7a42ba211987. Failed operations: [RestException(\"INVALID_PARAMETER_VALUE: Changing param values is not allowed. Params were already logged=\\'[{\\'key\\': \\'bootstrap\\', \\'old_value\\': None, \\'new_value\\': \\'True\\'}, {\\'key\\': \\'ccp_alpha\\', \\'old_value\\': None, \\'new_value\\': \\'0.0\\'}, {\\'key\\': \\'criterion\\', \\'old_value\\': None, \\'new_value\\': \\'squared_error\\'}, {\\'key\\': \\'max_features\\', \\'old_value\\': None, \\'new_value\\': \\'1.0\\'}, {\\'key\\': \\'max_leaf_nodes\\', \\'old_value\\': None, \\'new_value\\': \\'None\\'}, {\\'key\\': \\'max_samples\\', \\'old_value\\': None, \\'new_value\\': \\'None\\'}, {\\'key\\': \\'min_impurity_decrease\\', \\'old_value\\': None, \\'new_value\\': \\'0.0\\'}, {\\'key\\': \\'min_weight_fraction_leaf\\', \\'old_value\\': None, \\'new_value\\': \\'0.0\\'}, {\\'key\\': \\'n_jobs\\', \\'old_value\\': None, \\'new_value\\': \\'None\\'}, {\\'key\\': \\'oob_score\\', \\'old_value\\': None, \\'new_value\\': \\'False\\'}, {\\'key\\': \\'verbose\\', \\'old_value\\': None, \\'new_value\\': \\'0\\'}, {\\'key\\': \\'warm_start\\', \\'old_value\\': None, \\'new_value\\': \\'False\\'}]\\' for run ID=\\'285c615d4f6048ef952e7a42ba211987\\'.\")]')]\n",
      "\n"
     ]
    },
    {
     "name": "stdout",
     "output_type": "stream",
     "text": [
      "100%|██████████| 50/50 [10:58<00:00, 13.18s/trial, best loss: 6.6284257482044735]\n"
     ]
    }
   ],
   "source": [
    "%run ../src/hpo.py --data_path ./output"
   ]
  },
  {
   "cell_type": "markdown",
   "metadata": {},
   "source": [
    "# Q6. Promote the best model to the model registry"
   ]
  },
  {
   "cell_type": "code",
   "execution_count": 110,
   "metadata": {},
   "outputs": [
    {
     "name": "stderr",
     "output_type": "stream",
     "text": [
      "Successfully registered model 'random-forest-regressor'.\n",
      "2022/05/29 00:29:41 INFO mlflow.tracking._model_registry.client: Waiting up to 300 seconds for model version to finish creation.                     Model name: random-forest-regressor, version 1\n"
     ]
    },
    {
     "name": "stdout",
     "output_type": "stream",
     "text": [
      "<Run: data=<RunData: metrics={'mean_squared_error-2_X_test': 6.549081827157288,\n",
      " 'mean_squared_error_X_valid': 6.629851022038263,\n",
      " 'test_rmse': 6.549081827157288,\n",
      " 'training_mae': 3.7770678522029084,\n",
      " 'training_mse': 30.58215535939286,\n",
      " 'training_r2_score': 0.7712712967168107,\n",
      " 'training_rmse': 5.530113503301073,\n",
      " 'training_score': 0.7712712967168107,\n",
      " 'valid_rmse': 6.629851022038263}, params={'bootstrap': 'True',\n",
      " 'ccp_alpha': '0.0',\n",
      " 'criterion': 'squared_error',\n",
      " 'max_depth': '20',\n",
      " 'max_features': '1.0',\n",
      " 'max_leaf_nodes': 'None',\n",
      " 'max_samples': 'None',\n",
      " 'min_impurity_decrease': '0.0',\n",
      " 'min_samples_leaf': '2',\n",
      " 'min_samples_split': '4',\n",
      " 'min_weight_fraction_leaf': '0.0',\n",
      " 'n_estimators': '33',\n",
      " 'n_jobs': 'None',\n",
      " 'oob_score': 'False',\n",
      " 'random_state': '42',\n",
      " 'verbose': '0',\n",
      " 'warm_start': 'False'}, tags={'estimator_class': 'sklearn.ensemble._forest.RandomForestRegressor',\n",
      " 'estimator_name': 'RandomForestRegressor',\n",
      " 'mlflow.log-model.history': '[{\"run_id\": \"2ba916b08e4747e780a78d556c1f5874\", '\n",
      "                             '\"artifact_path\": \"model\", \"utc_time_created\": '\n",
      "                             '\"2022-05-29 05:29:35.877173\", \"flavors\": '\n",
      "                             '{\"python_function\": {\"model_path\": \"model.pkl\", '\n",
      "                             '\"loader_module\": \"mlflow.sklearn\", '\n",
      "                             '\"python_version\": \"3.8.13\", \"env\": '\n",
      "                             '\"conda.yaml\"}, \"sklearn\": {\"pickled_model\": '\n",
      "                             '\"model.pkl\", \"sklearn_version\": \"1.1.1\", '\n",
      "                             '\"serialization_format\": \"cloudpickle\", \"code\": '\n",
      "                             'null}}, \"model_uuid\": '\n",
      "                             '\"74358183540b4fd49405a22bff9f7111\", '\n",
      "                             '\"mlflow_version\": \"1.26.1\", \"signature\": '\n",
      "                             '{\"inputs\": \"[{\\\\\"type\\\\\": \\\\\"tensor\\\\\", '\n",
      "                             '\\\\\"tensor-spec\\\\\": {\\\\\"dtype\\\\\": \\\\\"float64\\\\\", '\n",
      "                             '\\\\\"shape\\\\\": [-1, 13221]}}]\", \"outputs\": '\n",
      "                             '\"[{\\\\\"type\\\\\": \\\\\"tensor\\\\\", \\\\\"tensor-spec\\\\\": '\n",
      "                             '{\\\\\"dtype\\\\\": \\\\\"float64\\\\\", \\\\\"shape\\\\\": '\n",
      "                             '[-1]}}]\"}}]',\n",
      " 'mlflow.source.name': '../src/register_model.py',\n",
      " 'mlflow.source.type': 'LOCAL',\n",
      " 'mlflow.user': 'cami1'}>, info=<RunInfo: artifact_uri='./mlruns/3/2ba916b08e4747e780a78d556c1f5874/artifacts', end_time=1653802181282, experiment_id='3', lifecycle_stage='active', run_id='2ba916b08e4747e780a78d556c1f5874', run_uuid='2ba916b08e4747e780a78d556c1f5874', start_time=1653802140844, status='FINISHED', user_id='cami1'>>\n",
      "['__class__', '__delattr__', '__dict__', '__dir__', '__doc__', '__eq__', '__format__', '__ge__', '__getattribute__', '__gt__', '__hash__', '__init__', '__init_subclass__', '__iter__', '__le__', '__lt__', '__module__', '__ne__', '__new__', '__reduce__', '__reduce_ex__', '__repr__', '__setattr__', '__sizeof__', '__str__', '__subclasshook__', '__weakref__', '_data', '_get_properties_helper', '_info', '_properties', 'data', 'from_dictionary', 'from_proto', 'info', 'to_dictionary', 'to_proto']\n",
      "<class 'mlflow.entities.run.Run'>\n",
      "{'info': {'artifact_uri': './mlruns/3/2ba916b08e4747e780a78d556c1f5874/artifacts', 'end_time': 1653802181282, 'experiment_id': '3', 'lifecycle_stage': 'active', 'run_id': '2ba916b08e4747e780a78d556c1f5874', 'run_uuid': '2ba916b08e4747e780a78d556c1f5874', 'start_time': 1653802140844, 'status': 'FINISHED', 'user_id': 'cami1'}, 'data': {'metrics': {'training_mse': 30.58215535939286, 'training_mae': 3.7770678522029084, 'training_r2_score': 0.7712712967168107, 'training_rmse': 5.530113503301073, 'training_score': 0.7712712967168107, 'mean_squared_error_X_valid': 6.629851022038263, 'valid_rmse': 6.629851022038263, 'mean_squared_error-2_X_test': 6.549081827157288, 'test_rmse': 6.549081827157288}, 'params': {'bootstrap': 'True', 'ccp_alpha': '0.0', 'criterion': 'squared_error', 'max_depth': '20', 'max_features': '1.0', 'max_leaf_nodes': 'None', 'max_samples': 'None', 'min_impurity_decrease': '0.0', 'min_samples_leaf': '2', 'min_samples_split': '4', 'min_weight_fraction_leaf': '0.0', 'n_estimators': '33', 'n_jobs': 'None', 'oob_score': 'False', 'random_state': '42', 'verbose': '0', 'warm_start': 'False'}, 'tags': {'mlflow.user': 'cami1', 'mlflow.source.name': '../src/register_model.py', 'mlflow.source.type': 'LOCAL', 'estimator_name': 'RandomForestRegressor', 'estimator_class': 'sklearn.ensemble._forest.RandomForestRegressor', 'mlflow.log-model.history': '[{\"run_id\": \"2ba916b08e4747e780a78d556c1f5874\", \"artifact_path\": \"model\", \"utc_time_created\": \"2022-05-29 05:29:35.877173\", \"flavors\": {\"python_function\": {\"model_path\": \"model.pkl\", \"loader_module\": \"mlflow.sklearn\", \"python_version\": \"3.8.13\", \"env\": \"conda.yaml\"}, \"sklearn\": {\"pickled_model\": \"model.pkl\", \"sklearn_version\": \"1.1.1\", \"serialization_format\": \"cloudpickle\", \"code\": null}}, \"model_uuid\": \"74358183540b4fd49405a22bff9f7111\", \"mlflow_version\": \"1.26.1\", \"signature\": {\"inputs\": \"[{\\\\\"type\\\\\": \\\\\"tensor\\\\\", \\\\\"tensor-spec\\\\\": {\\\\\"dtype\\\\\": \\\\\"float64\\\\\", \\\\\"shape\\\\\": [-1, 13221]}}]\", \"outputs\": \"[{\\\\\"type\\\\\": \\\\\"tensor\\\\\", \\\\\"tensor-spec\\\\\": {\\\\\"dtype\\\\\": \\\\\"float64\\\\\", \\\\\"shape\\\\\": [-1]}}]\"}}]'}}}\n",
      "dict_keys(['info', 'data'])\n",
      "2ba916b08e4747e780a78d556c1f5874\n"
     ]
    },
    {
     "name": "stderr",
     "output_type": "stream",
     "text": [
      "Created version '1' of model 'random-forest-regressor'.\n"
     ]
    }
   ],
   "source": [
    "%run ../src/register_model.py --data_path ./output"
   ]
  }
 ],
 "metadata": {
  "interpreter": {
   "hash": "a850faad080c4517828248a69faf1eb17b4ffd3e29dbb87bd99e73480efc99da"
  },
  "kernelspec": {
   "display_name": "Python 3.8.13 ('mlops_zoom')",
   "language": "python",
   "name": "python3"
  },
  "language_info": {
   "codemirror_mode": {
    "name": "ipython",
    "version": 3
   },
   "file_extension": ".py",
   "mimetype": "text/x-python",
   "name": "python",
   "nbconvert_exporter": "python",
   "pygments_lexer": "ipython3",
   "version": "3.8.13"
  },
  "orig_nbformat": 4
 },
 "nbformat": 4,
 "nbformat_minor": 2
}
